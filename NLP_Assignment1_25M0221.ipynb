{
  "cells": [
    {
      "cell_type": "markdown",
      "source": [
        "# **Natural Language Processing Assignment 1**"
      ],
      "metadata": {
        "id": "7s63z2d2d5ac"
      }
    },
    {
      "cell_type": "markdown",
      "source": [
        "**Assignment Objective** - You have to implement all of these techniques on a small corpus of your own choice taken from the web. Make sure to use the same corpus for all the tasks, also please give the reference of where you chose the corpus from. People attempting for advanced level are recommended to use a larger(production level/real-use) dataset."
      ],
      "metadata": {
        "id": "FC1_6Nu9ikum"
      }
    },
    {
      "cell_type": "markdown",
      "metadata": {
        "id": "AyTOfj8wYEj8"
      },
      "source": [
        "\n",
        "## **Text Pre-processing for Natural Language Processing (NLP)**\n",
        "\n",
        "Text preprocessing in NLP is the process of cleaning and preparing raw text data for analysis by machine learning or deep learning models. It involves converting text into a structured format through various steps. These steps ensure the text is consistent and meaningful, enabling models to better understand and process the data efficiently. Proper preprocessing is essential for improving the performance and accuracy of NLP models. The steps involved in pre-processing which we are going to be looking at in this tutorial are:\n",
        "1) **Lowercasing**\n",
        "2) **Removing Punctuations and Special Characrters**\n",
        "3) **Stop-Words removal**\n",
        "4) **Removal of URLs**\n",
        "5) **Removal of HTML Tags**\n",
        "6) **Stemming**\n",
        "7) **Lemmatization**\n",
        "8) **Tokenization**"
      ]
    },
    {
      "cell_type": "markdown",
      "metadata": {
        "id": "XJQ_tbI1YEkH"
      },
      "source": [
        "===================================================================================================="
      ]
    },
    {
      "cell_type": "markdown",
      "metadata": {
        "id": "wQ0YYIfpYEkI"
      },
      "source": [
        "<style>\n",
        "blue {\n",
        "  color: skyblue;\n",
        "}\n",
        "</style>\n",
        "\n",
        "## 1) **Lowercasing**\n",
        "Lowercasing converts all characters in a text to <blue>**lowercase**</blue>. It ensures uniformity by treating words like <blue>**\"Dog\"**</blue> and <blue>**\"dog\"**</blue> as the same entity. This is important for many NLP tasks since capitalization usually doesn't change the meaning of words.\n",
        "\n",
        "Example:\\\n",
        "Input: \"Natural Language Processing\"\\\n",
        "Output: \"natural language processing\""
      ]
    },
    {
      "cell_type": "code",
      "execution_count": 8,
      "metadata": {
        "id": "IFC1axshYEkJ",
        "outputId": "0f0bc5b5-bcf0-4666-bb26-edd17c3ee331",
        "colab": {
          "base_uri": "https://localhost:8080/"
        }
      },
      "outputs": [
        {
          "output_type": "stream",
          "name": "stdout",
          "text": [
            "hello world! welcome to our nlp - deep learning bootcamp\n"
          ]
        }
      ],
      "source": [
        "text = \"Hello WorlD! Welcome to our NLP - Deep Learning Bootcamp\"\n",
        "lowercased_text = text.lower()\n",
        "\n",
        "print(lowercased_text)"
      ]
    },
    {
      "cell_type": "markdown",
      "metadata": {
        "id": "stzcyO6UYEkN"
      },
      "source": [
        "<style>\n",
        "blue {\n",
        "  color: skyblue;\n",
        "}\n",
        "</style>\n",
        "## 2) **Removing Punctuation & Special Characters**\n",
        "\n",
        "Punctuation marks (like <blue>**commas**</blue>, <blue>**periods**</blue>, <blue>**dash**</blue> etc.) and special characters (like <blue>**@**</blue>, <blue>**#**</blue>, <blue>**$**</blue>, etc.) are often not meaningful in many NLP tasks. Removing them helps clean the text for better analysis.\n",
        "\n",
        "Example:\\\n",
        "Input: \"Hello! How are you doing @today?\"\\\n",
        "Output: \"Hello How are you doing today\"\n"
      ]
    },
    {
      "cell_type": "code",
      "execution_count": 9,
      "metadata": {
        "id": "JWhA4M2qYEkO",
        "outputId": "e96942af-a531-4989-9164-b9a964d994c7",
        "colab": {
          "base_uri": "https://localhost:8080/"
        }
      },
      "outputs": [
        {
          "output_type": "stream",
          "name": "stdout",
          "text": [
            "Hello world  Welcome to our NLP  Deep Learning Bootcamp\n"
          ]
        }
      ],
      "source": [
        "import re\n",
        "text = \"Hello, world ✋✋! Welcome to?* our&/|~^+%'\\\" NLP - Deep Learning🧠 Bootcamp🤩.\"\n",
        "punctuation_pattern = r'[^\\w\\s]'\n",
        "text_cleaned = re.sub(punctuation_pattern, '', text)\n",
        "print(text_cleaned)"
      ]
    },
    {
      "cell_type": "markdown",
      "metadata": {
        "id": "4as5p2LSYEkP"
      },
      "source": [
        "<style>\n",
        "blue {\n",
        "  color: skyblue;\n",
        "}\n",
        "</style>\n",
        "## 3) **Stop - Words Removal**\n",
        "\n",
        "Stop-words are common words like <blue>**\"the\"**</blue>, <blue>**\"is\"**</blue>, <blue>**\"in\"**</blue>, <blue>**\"and\"**</blue> that don't contribute significant meaning to the text. Removing them helps reduce the size of the dataset <blue>**without losing important context**</blue>.\n",
        "\n",
        "Example:\\\n",
        "Input: \"This is a sample sentence\"\\\n",
        "Output: \"sample sentence\""
      ]
    },
    {
      "cell_type": "code",
      "execution_count": 10,
      "metadata": {
        "id": "K2mLo9WFYEkQ",
        "outputId": "6d086085-60c7-4770-de9c-28a4fe084f12",
        "colab": {
          "base_uri": "https://localhost:8080/"
        }
      },
      "outputs": [
        {
          "output_type": "stream",
          "name": "stdout",
          "text": [
            "Language: english\n",
            "Filtered Text: ['Hello', 'World!', 'This', 'NLP', '-', 'Deep', 'Learning', 'Bootcamp.', 'Hope', 'fun!']\n",
            "Language: hinglish\n",
            "Filtered Text: ['Yeh', 'din', 'I', 'feeling', 'awesome']\n"
          ]
        },
        {
          "output_type": "stream",
          "name": "stderr",
          "text": [
            "[nltk_data] Downloading package stopwords to /root/nltk_data...\n",
            "[nltk_data]   Package stopwords is already up-to-date!\n"
          ]
        }
      ],
      "source": [
        "import nltk\n",
        "nltk.download('stopwords')\n",
        "from nltk.corpus import stopwords\n",
        "\n",
        "# Remove stopwords function for any language\n",
        "def remove_stopwords(text, language):\n",
        "    stop_words = set(stopwords.words(language))\n",
        "    word_tokens = text.split()\n",
        "    filtered_text = [word for word in word_tokens if word not in stop_words]\n",
        "    print(f\"Language: {language}\")\n",
        "    print(\"Filtered Text:\", filtered_text)\n",
        "\n",
        "# English Example\n",
        "en_text = \"Hello World! This is an NLP - Deep Learning Bootcamp. Hope this is fun!\"\n",
        "remove_stopwords(en_text, \"english\")\n",
        "\n",
        "# Hindi + English - Example\n",
        "hi_text = \"Yeh ek bahut accha din hai and I am feeling awesome\"\n",
        "remove_stopwords(hi_text, \"hinglish\")"
      ]
    },
    {
      "cell_type": "markdown",
      "metadata": {
        "id": "OQs5uUrSYEkR"
      },
      "source": [
        "<style>\n",
        "blue {\n",
        "  color: skyblue;\n",
        "}\n",
        "</style>\n",
        "## 4) **Removal of URLs**\n",
        "\n",
        "URLs are often <blue>**irrelevant**</blue> in NLP tasks and can add noise to the data. Removing them ensures cleaner text without <blue>**web links**</blue> that don’t contribute to the context.\n",
        "\n",
        "Example:\\\n",
        "Input: \"Check out this link: https://example.com\"\\\n",
        "Output: \"Check out this link\""
      ]
    },
    {
      "cell_type": "code",
      "execution_count": 11,
      "metadata": {
        "id": "UzEwkdU1YEkT",
        "outputId": "1c51fc87-82bb-4430-b91d-4e6c7a7b4f37",
        "colab": {
          "base_uri": "https://localhost:8080/",
          "height": 36
        }
      },
      "outputs": [
        {
          "output_type": "execute_result",
          "data": {
            "text/plain": [
              "'I hope this bootcamp is useful for you. You can share it with your friends at '"
            ],
            "application/vnd.google.colaboratory.intrinsic+json": {
              "type": "string"
            }
          },
          "metadata": {},
          "execution_count": 11
        }
      ],
      "source": [
        "def remove_urls(text):\n",
        "    url_pattern = re.compile(r'https?://\\S+|www\\.\\S+')\n",
        "    return url_pattern.sub(r'', text)\n",
        "\n",
        "text = \"I hope this bootcamp is useful for you. You can share it with your friends at https://example.com\"\n",
        "remove_urls(text)"
      ]
    },
    {
      "cell_type": "markdown",
      "metadata": {
        "id": "kAANjHxkYEkY"
      },
      "source": [
        "<style>\n",
        "blue {\n",
        "  color: skyblue;\n",
        "}\n",
        "</style>\n",
        "## 5) **Removal of HTML Tags**\n",
        "\n",
        "HTML tags are used in web data but are <blue>**unnecessary**</blue> in NLP tasks. <blue>**Stripping**</blue> out HTML tags cleans the text extracted from <blue>**web pages**</blue>.\n",
        "\n",
        "Example:\\\n",
        "Input: \"&lt;p>This is a paragraph.&lt;/p>\"\\\n",
        "Output: \"This is a paragraph.\""
      ]
    },
    {
      "cell_type": "code",
      "execution_count": 12,
      "metadata": {
        "id": "Ba8_c2c3YEka",
        "outputId": "b0aa41b0-a12d-4578-b971-d1125f8a5ef9",
        "colab": {
          "base_uri": "https://localhost:8080/"
        }
      },
      "outputs": [
        {
          "output_type": "stream",
          "name": "stdout",
          "text": [
            "\n",
            "NLP - Deep Learning\n",
            "Removal of HTML tags\n",
            "\n",
            "\n"
          ]
        }
      ],
      "source": [
        "import re\n",
        "\n",
        "text = \"\"\"<html><div>\n",
        "<h1>NLP - Deep Learning</h1>\n",
        "<p>Removal of HTML tags</p>\n",
        "<a href=\"https://example.com\"></a>\n",
        "</div></html>\"\"\"\n",
        "\n",
        "html_tags_pattern = r'<.*?>'\n",
        "text_without_html_tags = re.sub(html_tags_pattern, '', text)\n",
        "print(text_without_html_tags)"
      ]
    },
    {
      "cell_type": "markdown",
      "metadata": {
        "id": "bKhwe5BiYEkc"
      },
      "source": [
        "<style>\n",
        "blue {\n",
        "  color: skyblue;\n",
        "}\n",
        "</style>\n",
        "## 6) **Stemming**\n",
        "\n",
        "Stemming reduces a word to its <blue>**base**</blue> or <blue>**root**</blue> form, which might not always be a valid word. The idea is to <blue>**strip**</blue> off <blue>**prefixes**</blue> or <blue>**suffixes**</blue>. It’s a quick and less computationally expensive way of normalizing words. Stemming is preferred when the <blue>**meaning**</blue> of the word is <blue>**not important**</blue> for analysis. for example: <blue>**Spam Detection**</blue>\n",
        "\n",
        "Example:\\\n",
        "Input: \"Playing\", \"Played\", \"Plays\"\\\n",
        "Output: \"Play\"\n",
        "\n",
        "<blue>**Porter stemming**</blue> algorithm is one of the most common stemming algorithms which is basically designed to <blue>**remove**</blue> and <blue>**replace**</blue> well-known <blue>**suffixes**</blue> of English words. Although the Porter Stemming Algorithm was developed for English texts, it can be adapted to different languages. However, it is more effective to use natural language processing tools and algorithms specifically designed for different languages, like the library <blue>**iNLTK**</blue> offers these tools for <blue>**Indic Languages**</blue>. You can find it out here: <blue>**https://github.com/goru001/inltk**</blue>\n",
        "\n",
        "<div style=\"font-style: italic; text-align: center;\" markdown=\"1\">\n",
        "<img width=\"30%\" src=\"https://cdn.botpenguin.com/assets/website/Stemming_53678d43bc.png\">\n",
        "</div>"
      ]
    },
    {
      "cell_type": "code",
      "execution_count": 13,
      "metadata": {
        "id": "tCeERUIpYEke",
        "outputId": "3ac82358-0391-4b52-bd77-813dcedfd085",
        "colab": {
          "base_uri": "https://localhost:8080/"
        }
      },
      "outputs": [
        {
          "output_type": "execute_result",
          "data": {
            "text/plain": [
              "['text', 'preprocess', 'section', 'in', 'cours', 'nlp', '-', 'deep', 'learn']"
            ]
          },
          "metadata": {},
          "execution_count": 13
        }
      ],
      "source": [
        "from nltk.stem.porter import PorterStemmer\n",
        "\n",
        "stemmer = PorterStemmer()\n",
        "\n",
        "def stem_words(text):\n",
        "    word_tokens = text.split()\n",
        "    stems = [stemmer.stem(word) for word in word_tokens]\n",
        "    return stems\n",
        "\n",
        "text = 'text preprocessing section in course nlp - deep learning'\n",
        "stem_words(text)"
      ]
    },
    {
      "cell_type": "markdown",
      "metadata": {
        "id": "8A3pCt0TYEkf"
      },
      "source": [
        "<style>\n",
        "blue {\n",
        "  color: skyblue;\n",
        "}\n",
        "</style>\n",
        "## 7) **Lemmatization**\n",
        "\n",
        "Lemmatization is a more advanced technique compared to stemming. It <blue>**reduces**</blue> a word to its <blue>**base form (called a lemma)**</blue> while ensuring the <blue>**output**</blue> is a <blue>**valid word**</blue>. It uses context to determine whether the word is in singular, plural, or tense forms.\n",
        "\n",
        "Example:\\\n",
        "Input: \"Running\", \"Ran\"\\\n",
        "Output: \"Run\"\n",
        "\n",
        "In our lemmatization example, we will be using a popular lemmatizer called <blue>**WordNet**</blue> lemmatizer. WordNet is a word association database for English and a useful resource for English lemmatization. A popular lemmatizer used for Hindi is developed by <blue>**JohSnowLabs**</blue> can be found here: <blue>**https://sparknlp.org/2020/07/29/lemma_hi.html**</blue>\n",
        "\n",
        "<div style=\"font-style: italic; text-align: center;\" markdown=\"1\">\n",
        "<img width=\"30%\" src=\"https://cdn.botpenguin.com/assets/website/Lemmatization_5338fc7c3e.png\">\n",
        "</div>"
      ]
    },
    {
      "cell_type": "code",
      "execution_count": 15,
      "metadata": {
        "id": "C0r0iwa4YEkh",
        "outputId": "ede5677b-02b1-42fd-9f9e-fb07f737a957",
        "colab": {
          "base_uri": "https://localhost:8080/"
        }
      },
      "outputs": [
        {
          "output_type": "stream",
          "name": "stderr",
          "text": [
            "[nltk_data] Downloading package wordnet to /root/nltk_data...\n"
          ]
        },
        {
          "output_type": "stream",
          "name": "stdout",
          "text": [
            "['text', 'preprocessing', 'section', 'in', 'course', 'nlp', '-', 'deep', 'learn']\n"
          ]
        }
      ],
      "source": [
        "import nltk\n",
        "nltk.download('wordnet')\n",
        "from nltk.stem import WordNetLemmatizer\n",
        "\n",
        "lemmatizer = WordNetLemmatizer()\n",
        "\n",
        "def lemmatize_word(text):\n",
        "    word_tokens = text.split()\n",
        "    lemmas = [lemmatizer.lemmatize(word, pos ='v') for word in word_tokens]\n",
        "    return lemmas\n",
        "\n",
        "text = 'text preprocessing section in course nlp - deep learning'\n",
        "print(lemmatize_word(text))"
      ]
    },
    {
      "cell_type": "markdown",
      "metadata": {
        "id": "BT1ANehtYEki"
      },
      "source": [
        "<style>\n",
        "blue {\n",
        "  color: skyblue;\n",
        "}\n",
        "</style>\n",
        "## 8) **Tokenization**\n",
        "\n",
        "Tokenization is the process of <blue>**splitting**</blue> a text into <blue>**individual units**</blue> like words, phrases, or sentences, called <blue>**tokens**</blue>. These tokens form the building blocks for further processing and analysis in NLP tasks.\n",
        "\n",
        "Example:\\\n",
        "Input: \"Congratulations you are almost at the end of this file.\"\\\n",
        "Output: [\"Congratulations\", \"you\", \"are\", \"almost\", \"at\", \"the\", \"end\", \"of\", \"this\", \"file\", \".\"]\n",
        "\n",
        "There are different methods and libraries available to perform tokenization. <blue>**SpaCy**</blue> and <blue>**Gensim**</blue> are some of the libraries that can be used to accomplish the task.\n",
        "Tokenization can be used to separate words or sentences. If the text is split into <blue>**words**</blue> using some separation technique it is called <blue>**word tokenization**</blue> and the same separation done for <blue>**sentences**</blue> is called <blue>**sentence tokenization**</blue>."
      ]
    },
    {
      "cell_type": "code",
      "execution_count": 17,
      "metadata": {
        "id": "qzsPdvcsYEki",
        "collapsed": true,
        "outputId": "475ecf94-d6b5-48ac-f642-3f58c391db5d",
        "colab": {
          "base_uri": "https://localhost:8080/"
        }
      },
      "outputs": [
        {
          "output_type": "stream",
          "name": "stderr",
          "text": [
            "[nltk_data] Downloading package punkt_tab to /root/nltk_data...\n",
            "[nltk_data]   Unzipping tokenizers/punkt_tab.zip.\n"
          ]
        },
        {
          "output_type": "stream",
          "name": "stdout",
          "text": [
            "['Congratulations', 'you', 'are', 'almost', 'at', 'the', 'end', 'of', 'this', 'file', '.']\n"
          ]
        }
      ],
      "source": [
        "import nltk\n",
        "nltk.download('punkt_tab')\n",
        "from nltk.tokenize import word_tokenize\n",
        "\n",
        "text = \"Congratulations you are almost at the end of this file.\"\n",
        "\n",
        "tokens = word_tokenize(text)\n",
        "print(tokens)"
      ]
    },
    {
      "cell_type": "markdown",
      "source": [
        "## **Text Processing for Natural Language Processing (NLP)**\n",
        "\n",
        "In text processing for NLP, Bag of Words (BoW) is a simple model where a text is represented as a collection of words, disregarding grammar and order, focusing only on word frequency. TF-IDF (Term Frequency-Inverse Document Frequency) improves upon BoW by assigning weights to words based on their importance, emphasizing words that are common in a document but rare across other documents. Word2Vec, a more advanced approach, generates dense word embeddings by training a neural network to map words to vectors, capturing semantic relationships and similarities between words based on context in large datasets. In this tutorial we will be looking at the following topics:\n",
        "1) **Bag of Words (BoW)**\n",
        "2) **Term Frequency-Inverse Document Frequency (TF-IDF)**\n",
        "3) **Encodings**\n",
        "4) **Word Embeddings**\n",
        "5) **Word2Vec**"
      ],
      "metadata": {
        "id": "IqHME5fIaHW_"
      }
    },
    {
      "cell_type": "markdown",
      "source": [
        "===================================================================================================="
      ],
      "metadata": {
        "id": "zUfawEqMbp8q"
      }
    },
    {
      "cell_type": "markdown",
      "source": [
        "<style>\n",
        "blue {\n",
        "  color: skyblue;\n",
        "}\n",
        "</style>\n",
        "\n",
        "## 1) **Bag of Words (BoW)**\n",
        "\n",
        "Bag of Words (BoW) is a simple text representation method used in NLP where a document is represented by the <blue>**frequency**</blue> of words in it, <blue>**without considering grammar**</blue>, <blue>**order**</blue>, or <blue>**context**</blue>. It treats every word as <blue>**independent**</blue> and counts its occurrences in the text. For example, in the sentences \"The cat sits on the mat\" and \"The dog sits on the mat\", the BoW would capture the words \"The\", \"cat\", \"sits\", \"on\", \"the\", \"mat\", \"dog\", with their respective frequencies. However, BoW <blue>**cannot capture meaning**</blue> or relationships between words, as it focuses solely on word presence and counts."
      ],
      "metadata": {
        "id": "ez22mVV0btEj"
      }
    },
    {
      "cell_type": "code",
      "source": [
        "import nltk\n",
        "from nltk.stem import WordNetLemmatizer\n",
        "import re\n",
        "from nltk.corpus import stopwords\n",
        "\n",
        "# Defining all pre-processing steps\n",
        "def preprocessing_text(text):\n",
        "    lemmatizer = WordNetLemmatizer()\n",
        "    emoji_pattern = r'^(?:[\\u2700-\\u27bf]|(?:\\ud83c[\\udde6-\\uddff]){1,2}|(?:\\ud83d[\\udc00-\\ude4f]){1,2}|[\\ud800-\\udbff][\\udc00-\\udfff]|[\\u0021-\\u002f\\u003a-\\u0040\\u005b-\\u0060\\u007b-\\u007e]|\\u3299|\\u3297|\\u303d|\\u3030|\\u24c2|\\ud83c[\\udd70-\\udd71]|\\ud83c[\\udd7e-\\udd7f]|\\ud83c\\udd8e|\\ud83c[\\udd91-\\udd9a]|\\ud83c[\\udde6-\\uddff]|\\ud83c[\\ude01-\\ude02]|\\ud83c\\ude1a|\\ud83c\\ude2f|\\ud83c[\\ude32-\\ude3a]|\\ud83c[\\ude50-\\ude51]|\\u203c|\\u2049|\\u25aa|\\u25ab|\\u25b6|\\u25c0|\\u25fb|\\u25fc|\\u25fd|\\u25fe|\\u2600|\\u2601|\\u260e|\\u2611|[^\\u0000-\\u007F])+$'\n",
        "\n",
        "    text = text.split()\n",
        "    text = [lemmatizer.lemmatize(word) for word in text if not word in set(stopwords.words('english'))]\n",
        "    text = ' '.join(text)\n",
        "    text = re.sub(r'[0-9]+', '', text)\n",
        "    text = re.sub(r'[^\\w\\s]', '', text)\n",
        "    text = re.sub(emoji_pattern, '', text)\n",
        "    text= re.sub(r'\\s+', ' ', text)\n",
        "    text= text.lower().strip()\n",
        "\n",
        "    return text\n",
        "\n",
        "paragraph = \"\"\"Welcome to the NLP - Deep Learning Bootcamp.\n",
        "            Hope that you have watched all the resources uploaded on our official notion page.\n",
        "            If you have not please begin there, thanks!\n",
        "            \"\"\"\n",
        "\n",
        "sentences_list = nltk.sent_tokenize(paragraph)\n",
        "\n",
        "corpus = [preprocessing_text(sentence) for sentence in sentences_list]\n",
        "\n",
        "print(corpus)"
      ],
      "metadata": {
        "id": "paLcyIBocDbK",
        "outputId": "f7d9da97-4206-4e6c-e8f2-fe6a79242d34",
        "colab": {
          "base_uri": "https://localhost:8080/"
        }
      },
      "execution_count": 18,
      "outputs": [
        {
          "output_type": "stream",
          "name": "stdout",
          "text": [
            "['welcome nlp deep learning bootcamp', 'hope watched resource uploaded official notion page', 'if please begin there thanks']\n"
          ]
        }
      ]
    },
    {
      "cell_type": "code",
      "source": [
        "# Creating a Bag of Words\n",
        "from sklearn.feature_extraction.text import CountVectorizer\n",
        "\n",
        "vectorizer = CountVectorizer()\n",
        "X = vectorizer.fit_transform(corpus)\n",
        "feature_names = vectorizer.get_feature_names_out()\n",
        "X_array = X.toarray()\n",
        "\n",
        "print(\"Unique Word List: \\n\", feature_names)\n",
        "print(\"Bag of Words Matrix: \\n\", X_array)"
      ],
      "metadata": {
        "id": "VAAjxcJzcGzP",
        "outputId": "2646076e-bb01-41d7-8c42-b2b3eee8b009",
        "colab": {
          "base_uri": "https://localhost:8080/"
        }
      },
      "execution_count": 19,
      "outputs": [
        {
          "output_type": "stream",
          "name": "stdout",
          "text": [
            "Unique Word List: \n",
            " ['begin' 'bootcamp' 'deep' 'hope' 'if' 'learning' 'nlp' 'notion'\n",
            " 'official' 'page' 'please' 'resource' 'thanks' 'there' 'uploaded'\n",
            " 'watched' 'welcome']\n",
            "Bag of Words Matrix: \n",
            " [[0 1 1 0 0 1 1 0 0 0 0 0 0 0 0 0 1]\n",
            " [0 0 0 1 0 0 0 1 1 1 0 1 0 0 1 1 0]\n",
            " [1 0 0 0 1 0 0 0 0 0 1 0 1 1 0 0 0]]\n"
          ]
        }
      ]
    },
    {
      "cell_type": "code",
      "source": [
        "# Visualizing results in tabular form\n",
        "import pandas as pd\n",
        "\n",
        "df = pd.DataFrame(data=X_array, columns=feature_names, index=corpus)\n",
        "(df)"
      ],
      "metadata": {
        "id": "AJWJ6AvGcIv8",
        "outputId": "679c8dbe-88ff-4fed-c288-a74f3690859c",
        "colab": {
          "base_uri": "https://localhost:8080/",
          "height": 161
        }
      },
      "execution_count": 20,
      "outputs": [
        {
          "output_type": "execute_result",
          "data": {
            "text/plain": [
              "                                                    begin  bootcamp  deep  \\\n",
              "welcome nlp deep learning bootcamp                      0         1     1   \n",
              "hope watched resource uploaded official notion ...      0         0     0   \n",
              "if please begin there thanks                            1         0     0   \n",
              "\n",
              "                                                    hope  if  learning  nlp  \\\n",
              "welcome nlp deep learning bootcamp                     0   0         1    1   \n",
              "hope watched resource uploaded official notion ...     1   0         0    0   \n",
              "if please begin there thanks                           0   1         0    0   \n",
              "\n",
              "                                                    notion  official  page  \\\n",
              "welcome nlp deep learning bootcamp                       0         0     0   \n",
              "hope watched resource uploaded official notion ...       1         1     1   \n",
              "if please begin there thanks                             0         0     0   \n",
              "\n",
              "                                                    please  resource  thanks  \\\n",
              "welcome nlp deep learning bootcamp                       0         0       0   \n",
              "hope watched resource uploaded official notion ...       0         1       0   \n",
              "if please begin there thanks                             1         0       1   \n",
              "\n",
              "                                                    there  uploaded  watched  \\\n",
              "welcome nlp deep learning bootcamp                      0         0        0   \n",
              "hope watched resource uploaded official notion ...      0         1        1   \n",
              "if please begin there thanks                            1         0        0   \n",
              "\n",
              "                                                    welcome  \n",
              "welcome nlp deep learning bootcamp                        1  \n",
              "hope watched resource uploaded official notion ...        0  \n",
              "if please begin there thanks                              0  "
            ],
            "text/html": [
              "\n",
              "  <div id=\"df-88096fb4-6f28-4d5e-a6e2-7bdf034b4253\" class=\"colab-df-container\">\n",
              "    <div>\n",
              "<style scoped>\n",
              "    .dataframe tbody tr th:only-of-type {\n",
              "        vertical-align: middle;\n",
              "    }\n",
              "\n",
              "    .dataframe tbody tr th {\n",
              "        vertical-align: top;\n",
              "    }\n",
              "\n",
              "    .dataframe thead th {\n",
              "        text-align: right;\n",
              "    }\n",
              "</style>\n",
              "<table border=\"1\" class=\"dataframe\">\n",
              "  <thead>\n",
              "    <tr style=\"text-align: right;\">\n",
              "      <th></th>\n",
              "      <th>begin</th>\n",
              "      <th>bootcamp</th>\n",
              "      <th>deep</th>\n",
              "      <th>hope</th>\n",
              "      <th>if</th>\n",
              "      <th>learning</th>\n",
              "      <th>nlp</th>\n",
              "      <th>notion</th>\n",
              "      <th>official</th>\n",
              "      <th>page</th>\n",
              "      <th>please</th>\n",
              "      <th>resource</th>\n",
              "      <th>thanks</th>\n",
              "      <th>there</th>\n",
              "      <th>uploaded</th>\n",
              "      <th>watched</th>\n",
              "      <th>welcome</th>\n",
              "    </tr>\n",
              "  </thead>\n",
              "  <tbody>\n",
              "    <tr>\n",
              "      <th>welcome nlp deep learning bootcamp</th>\n",
              "      <td>0</td>\n",
              "      <td>1</td>\n",
              "      <td>1</td>\n",
              "      <td>0</td>\n",
              "      <td>0</td>\n",
              "      <td>1</td>\n",
              "      <td>1</td>\n",
              "      <td>0</td>\n",
              "      <td>0</td>\n",
              "      <td>0</td>\n",
              "      <td>0</td>\n",
              "      <td>0</td>\n",
              "      <td>0</td>\n",
              "      <td>0</td>\n",
              "      <td>0</td>\n",
              "      <td>0</td>\n",
              "      <td>1</td>\n",
              "    </tr>\n",
              "    <tr>\n",
              "      <th>hope watched resource uploaded official notion page</th>\n",
              "      <td>0</td>\n",
              "      <td>0</td>\n",
              "      <td>0</td>\n",
              "      <td>1</td>\n",
              "      <td>0</td>\n",
              "      <td>0</td>\n",
              "      <td>0</td>\n",
              "      <td>1</td>\n",
              "      <td>1</td>\n",
              "      <td>1</td>\n",
              "      <td>0</td>\n",
              "      <td>1</td>\n",
              "      <td>0</td>\n",
              "      <td>0</td>\n",
              "      <td>1</td>\n",
              "      <td>1</td>\n",
              "      <td>0</td>\n",
              "    </tr>\n",
              "    <tr>\n",
              "      <th>if please begin there thanks</th>\n",
              "      <td>1</td>\n",
              "      <td>0</td>\n",
              "      <td>0</td>\n",
              "      <td>0</td>\n",
              "      <td>1</td>\n",
              "      <td>0</td>\n",
              "      <td>0</td>\n",
              "      <td>0</td>\n",
              "      <td>0</td>\n",
              "      <td>0</td>\n",
              "      <td>1</td>\n",
              "      <td>0</td>\n",
              "      <td>1</td>\n",
              "      <td>1</td>\n",
              "      <td>0</td>\n",
              "      <td>0</td>\n",
              "      <td>0</td>\n",
              "    </tr>\n",
              "  </tbody>\n",
              "</table>\n",
              "</div>\n",
              "    <div class=\"colab-df-buttons\">\n",
              "\n",
              "  <div class=\"colab-df-container\">\n",
              "    <button class=\"colab-df-convert\" onclick=\"convertToInteractive('df-88096fb4-6f28-4d5e-a6e2-7bdf034b4253')\"\n",
              "            title=\"Convert this dataframe to an interactive table.\"\n",
              "            style=\"display:none;\">\n",
              "\n",
              "  <svg xmlns=\"http://www.w3.org/2000/svg\" height=\"24px\" viewBox=\"0 -960 960 960\">\n",
              "    <path d=\"M120-120v-720h720v720H120Zm60-500h600v-160H180v160Zm220 220h160v-160H400v160Zm0 220h160v-160H400v160ZM180-400h160v-160H180v160Zm440 0h160v-160H620v160ZM180-180h160v-160H180v160Zm440 0h160v-160H620v160Z\"/>\n",
              "  </svg>\n",
              "    </button>\n",
              "\n",
              "  <style>\n",
              "    .colab-df-container {\n",
              "      display:flex;\n",
              "      gap: 12px;\n",
              "    }\n",
              "\n",
              "    .colab-df-convert {\n",
              "      background-color: #E8F0FE;\n",
              "      border: none;\n",
              "      border-radius: 50%;\n",
              "      cursor: pointer;\n",
              "      display: none;\n",
              "      fill: #1967D2;\n",
              "      height: 32px;\n",
              "      padding: 0 0 0 0;\n",
              "      width: 32px;\n",
              "    }\n",
              "\n",
              "    .colab-df-convert:hover {\n",
              "      background-color: #E2EBFA;\n",
              "      box-shadow: 0px 1px 2px rgba(60, 64, 67, 0.3), 0px 1px 3px 1px rgba(60, 64, 67, 0.15);\n",
              "      fill: #174EA6;\n",
              "    }\n",
              "\n",
              "    .colab-df-buttons div {\n",
              "      margin-bottom: 4px;\n",
              "    }\n",
              "\n",
              "    [theme=dark] .colab-df-convert {\n",
              "      background-color: #3B4455;\n",
              "      fill: #D2E3FC;\n",
              "    }\n",
              "\n",
              "    [theme=dark] .colab-df-convert:hover {\n",
              "      background-color: #434B5C;\n",
              "      box-shadow: 0px 1px 3px 1px rgba(0, 0, 0, 0.15);\n",
              "      filter: drop-shadow(0px 1px 2px rgba(0, 0, 0, 0.3));\n",
              "      fill: #FFFFFF;\n",
              "    }\n",
              "  </style>\n",
              "\n",
              "    <script>\n",
              "      const buttonEl =\n",
              "        document.querySelector('#df-88096fb4-6f28-4d5e-a6e2-7bdf034b4253 button.colab-df-convert');\n",
              "      buttonEl.style.display =\n",
              "        google.colab.kernel.accessAllowed ? 'block' : 'none';\n",
              "\n",
              "      async function convertToInteractive(key) {\n",
              "        const element = document.querySelector('#df-88096fb4-6f28-4d5e-a6e2-7bdf034b4253');\n",
              "        const dataTable =\n",
              "          await google.colab.kernel.invokeFunction('convertToInteractive',\n",
              "                                                    [key], {});\n",
              "        if (!dataTable) return;\n",
              "\n",
              "        const docLinkHtml = 'Like what you see? Visit the ' +\n",
              "          '<a target=\"_blank\" href=https://colab.research.google.com/notebooks/data_table.ipynb>data table notebook</a>'\n",
              "          + ' to learn more about interactive tables.';\n",
              "        element.innerHTML = '';\n",
              "        dataTable['output_type'] = 'display_data';\n",
              "        await google.colab.output.renderOutput(dataTable, element);\n",
              "        const docLink = document.createElement('div');\n",
              "        docLink.innerHTML = docLinkHtml;\n",
              "        element.appendChild(docLink);\n",
              "      }\n",
              "    </script>\n",
              "  </div>\n",
              "\n",
              "\n",
              "    <div id=\"df-9b2ff5bf-f8bf-413f-a672-472900a0c25b\">\n",
              "      <button class=\"colab-df-quickchart\" onclick=\"quickchart('df-9b2ff5bf-f8bf-413f-a672-472900a0c25b')\"\n",
              "                title=\"Suggest charts\"\n",
              "                style=\"display:none;\">\n",
              "\n",
              "<svg xmlns=\"http://www.w3.org/2000/svg\" height=\"24px\"viewBox=\"0 0 24 24\"\n",
              "     width=\"24px\">\n",
              "    <g>\n",
              "        <path d=\"M19 3H5c-1.1 0-2 .9-2 2v14c0 1.1.9 2 2 2h14c1.1 0 2-.9 2-2V5c0-1.1-.9-2-2-2zM9 17H7v-7h2v7zm4 0h-2V7h2v10zm4 0h-2v-4h2v4z\"/>\n",
              "    </g>\n",
              "</svg>\n",
              "      </button>\n",
              "\n",
              "<style>\n",
              "  .colab-df-quickchart {\n",
              "      --bg-color: #E8F0FE;\n",
              "      --fill-color: #1967D2;\n",
              "      --hover-bg-color: #E2EBFA;\n",
              "      --hover-fill-color: #174EA6;\n",
              "      --disabled-fill-color: #AAA;\n",
              "      --disabled-bg-color: #DDD;\n",
              "  }\n",
              "\n",
              "  [theme=dark] .colab-df-quickchart {\n",
              "      --bg-color: #3B4455;\n",
              "      --fill-color: #D2E3FC;\n",
              "      --hover-bg-color: #434B5C;\n",
              "      --hover-fill-color: #FFFFFF;\n",
              "      --disabled-bg-color: #3B4455;\n",
              "      --disabled-fill-color: #666;\n",
              "  }\n",
              "\n",
              "  .colab-df-quickchart {\n",
              "    background-color: var(--bg-color);\n",
              "    border: none;\n",
              "    border-radius: 50%;\n",
              "    cursor: pointer;\n",
              "    display: none;\n",
              "    fill: var(--fill-color);\n",
              "    height: 32px;\n",
              "    padding: 0;\n",
              "    width: 32px;\n",
              "  }\n",
              "\n",
              "  .colab-df-quickchart:hover {\n",
              "    background-color: var(--hover-bg-color);\n",
              "    box-shadow: 0 1px 2px rgba(60, 64, 67, 0.3), 0 1px 3px 1px rgba(60, 64, 67, 0.15);\n",
              "    fill: var(--button-hover-fill-color);\n",
              "  }\n",
              "\n",
              "  .colab-df-quickchart-complete:disabled,\n",
              "  .colab-df-quickchart-complete:disabled:hover {\n",
              "    background-color: var(--disabled-bg-color);\n",
              "    fill: var(--disabled-fill-color);\n",
              "    box-shadow: none;\n",
              "  }\n",
              "\n",
              "  .colab-df-spinner {\n",
              "    border: 2px solid var(--fill-color);\n",
              "    border-color: transparent;\n",
              "    border-bottom-color: var(--fill-color);\n",
              "    animation:\n",
              "      spin 1s steps(1) infinite;\n",
              "  }\n",
              "\n",
              "  @keyframes spin {\n",
              "    0% {\n",
              "      border-color: transparent;\n",
              "      border-bottom-color: var(--fill-color);\n",
              "      border-left-color: var(--fill-color);\n",
              "    }\n",
              "    20% {\n",
              "      border-color: transparent;\n",
              "      border-left-color: var(--fill-color);\n",
              "      border-top-color: var(--fill-color);\n",
              "    }\n",
              "    30% {\n",
              "      border-color: transparent;\n",
              "      border-left-color: var(--fill-color);\n",
              "      border-top-color: var(--fill-color);\n",
              "      border-right-color: var(--fill-color);\n",
              "    }\n",
              "    40% {\n",
              "      border-color: transparent;\n",
              "      border-right-color: var(--fill-color);\n",
              "      border-top-color: var(--fill-color);\n",
              "    }\n",
              "    60% {\n",
              "      border-color: transparent;\n",
              "      border-right-color: var(--fill-color);\n",
              "    }\n",
              "    80% {\n",
              "      border-color: transparent;\n",
              "      border-right-color: var(--fill-color);\n",
              "      border-bottom-color: var(--fill-color);\n",
              "    }\n",
              "    90% {\n",
              "      border-color: transparent;\n",
              "      border-bottom-color: var(--fill-color);\n",
              "    }\n",
              "  }\n",
              "</style>\n",
              "\n",
              "      <script>\n",
              "        async function quickchart(key) {\n",
              "          const quickchartButtonEl =\n",
              "            document.querySelector('#' + key + ' button');\n",
              "          quickchartButtonEl.disabled = true;  // To prevent multiple clicks.\n",
              "          quickchartButtonEl.classList.add('colab-df-spinner');\n",
              "          try {\n",
              "            const charts = await google.colab.kernel.invokeFunction(\n",
              "                'suggestCharts', [key], {});\n",
              "          } catch (error) {\n",
              "            console.error('Error during call to suggestCharts:', error);\n",
              "          }\n",
              "          quickchartButtonEl.classList.remove('colab-df-spinner');\n",
              "          quickchartButtonEl.classList.add('colab-df-quickchart-complete');\n",
              "        }\n",
              "        (() => {\n",
              "          let quickchartButtonEl =\n",
              "            document.querySelector('#df-9b2ff5bf-f8bf-413f-a672-472900a0c25b button');\n",
              "          quickchartButtonEl.style.display =\n",
              "            google.colab.kernel.accessAllowed ? 'block' : 'none';\n",
              "        })();\n",
              "      </script>\n",
              "    </div>\n",
              "\n",
              "  <div id=\"id_5dabc1e3-cb80-41ad-aeb7-0b360e1a36fb\">\n",
              "    <style>\n",
              "      .colab-df-generate {\n",
              "        background-color: #E8F0FE;\n",
              "        border: none;\n",
              "        border-radius: 50%;\n",
              "        cursor: pointer;\n",
              "        display: none;\n",
              "        fill: #1967D2;\n",
              "        height: 32px;\n",
              "        padding: 0 0 0 0;\n",
              "        width: 32px;\n",
              "      }\n",
              "\n",
              "      .colab-df-generate:hover {\n",
              "        background-color: #E2EBFA;\n",
              "        box-shadow: 0px 1px 2px rgba(60, 64, 67, 0.3), 0px 1px 3px 1px rgba(60, 64, 67, 0.15);\n",
              "        fill: #174EA6;\n",
              "      }\n",
              "\n",
              "      [theme=dark] .colab-df-generate {\n",
              "        background-color: #3B4455;\n",
              "        fill: #D2E3FC;\n",
              "      }\n",
              "\n",
              "      [theme=dark] .colab-df-generate:hover {\n",
              "        background-color: #434B5C;\n",
              "        box-shadow: 0px 1px 3px 1px rgba(0, 0, 0, 0.15);\n",
              "        filter: drop-shadow(0px 1px 2px rgba(0, 0, 0, 0.3));\n",
              "        fill: #FFFFFF;\n",
              "      }\n",
              "    </style>\n",
              "    <button class=\"colab-df-generate\" onclick=\"generateWithVariable('df')\"\n",
              "            title=\"Generate code using this dataframe.\"\n",
              "            style=\"display:none;\">\n",
              "\n",
              "  <svg xmlns=\"http://www.w3.org/2000/svg\" height=\"24px\"viewBox=\"0 0 24 24\"\n",
              "       width=\"24px\">\n",
              "    <path d=\"M7,19H8.4L18.45,9,17,7.55,7,17.6ZM5,21V16.75L18.45,3.32a2,2,0,0,1,2.83,0l1.4,1.43a1.91,1.91,0,0,1,.58,1.4,1.91,1.91,0,0,1-.58,1.4L9.25,21ZM18.45,9,17,7.55Zm-12,3A5.31,5.31,0,0,0,4.9,8.1,5.31,5.31,0,0,0,1,6.5,5.31,5.31,0,0,0,4.9,4.9,5.31,5.31,0,0,0,6.5,1,5.31,5.31,0,0,0,8.1,4.9,5.31,5.31,0,0,0,12,6.5,5.46,5.46,0,0,0,6.5,12Z\"/>\n",
              "  </svg>\n",
              "    </button>\n",
              "    <script>\n",
              "      (() => {\n",
              "      const buttonEl =\n",
              "        document.querySelector('#id_5dabc1e3-cb80-41ad-aeb7-0b360e1a36fb button.colab-df-generate');\n",
              "      buttonEl.style.display =\n",
              "        google.colab.kernel.accessAllowed ? 'block' : 'none';\n",
              "\n",
              "      buttonEl.onclick = () => {\n",
              "        google.colab.notebook.generateWithVariable('df');\n",
              "      }\n",
              "      })();\n",
              "    </script>\n",
              "  </div>\n",
              "\n",
              "    </div>\n",
              "  </div>\n"
            ],
            "application/vnd.google.colaboratory.intrinsic+json": {
              "type": "dataframe",
              "variable_name": "df",
              "summary": "{\n  \"name\": \"df\",\n  \"rows\": 3,\n  \"fields\": [\n    {\n      \"column\": \"begin\",\n      \"properties\": {\n        \"dtype\": \"number\",\n        \"std\": 0,\n        \"min\": 0,\n        \"max\": 1,\n        \"num_unique_values\": 2,\n        \"samples\": [\n          1,\n          0\n        ],\n        \"semantic_type\": \"\",\n        \"description\": \"\"\n      }\n    },\n    {\n      \"column\": \"bootcamp\",\n      \"properties\": {\n        \"dtype\": \"number\",\n        \"std\": 0,\n        \"min\": 0,\n        \"max\": 1,\n        \"num_unique_values\": 2,\n        \"samples\": [\n          0,\n          1\n        ],\n        \"semantic_type\": \"\",\n        \"description\": \"\"\n      }\n    },\n    {\n      \"column\": \"deep\",\n      \"properties\": {\n        \"dtype\": \"number\",\n        \"std\": 0,\n        \"min\": 0,\n        \"max\": 1,\n        \"num_unique_values\": 2,\n        \"samples\": [\n          0,\n          1\n        ],\n        \"semantic_type\": \"\",\n        \"description\": \"\"\n      }\n    },\n    {\n      \"column\": \"hope\",\n      \"properties\": {\n        \"dtype\": \"number\",\n        \"std\": 0,\n        \"min\": 0,\n        \"max\": 1,\n        \"num_unique_values\": 2,\n        \"samples\": [\n          1,\n          0\n        ],\n        \"semantic_type\": \"\",\n        \"description\": \"\"\n      }\n    },\n    {\n      \"column\": \"if\",\n      \"properties\": {\n        \"dtype\": \"number\",\n        \"std\": 0,\n        \"min\": 0,\n        \"max\": 1,\n        \"num_unique_values\": 2,\n        \"samples\": [\n          1,\n          0\n        ],\n        \"semantic_type\": \"\",\n        \"description\": \"\"\n      }\n    },\n    {\n      \"column\": \"learning\",\n      \"properties\": {\n        \"dtype\": \"number\",\n        \"std\": 0,\n        \"min\": 0,\n        \"max\": 1,\n        \"num_unique_values\": 2,\n        \"samples\": [\n          0,\n          1\n        ],\n        \"semantic_type\": \"\",\n        \"description\": \"\"\n      }\n    },\n    {\n      \"column\": \"nlp\",\n      \"properties\": {\n        \"dtype\": \"number\",\n        \"std\": 0,\n        \"min\": 0,\n        \"max\": 1,\n        \"num_unique_values\": 2,\n        \"samples\": [\n          0,\n          1\n        ],\n        \"semantic_type\": \"\",\n        \"description\": \"\"\n      }\n    },\n    {\n      \"column\": \"notion\",\n      \"properties\": {\n        \"dtype\": \"number\",\n        \"std\": 0,\n        \"min\": 0,\n        \"max\": 1,\n        \"num_unique_values\": 2,\n        \"samples\": [\n          1,\n          0\n        ],\n        \"semantic_type\": \"\",\n        \"description\": \"\"\n      }\n    },\n    {\n      \"column\": \"official\",\n      \"properties\": {\n        \"dtype\": \"number\",\n        \"std\": 0,\n        \"min\": 0,\n        \"max\": 1,\n        \"num_unique_values\": 2,\n        \"samples\": [\n          1,\n          0\n        ],\n        \"semantic_type\": \"\",\n        \"description\": \"\"\n      }\n    },\n    {\n      \"column\": \"page\",\n      \"properties\": {\n        \"dtype\": \"number\",\n        \"std\": 0,\n        \"min\": 0,\n        \"max\": 1,\n        \"num_unique_values\": 2,\n        \"samples\": [\n          1,\n          0\n        ],\n        \"semantic_type\": \"\",\n        \"description\": \"\"\n      }\n    },\n    {\n      \"column\": \"please\",\n      \"properties\": {\n        \"dtype\": \"number\",\n        \"std\": 0,\n        \"min\": 0,\n        \"max\": 1,\n        \"num_unique_values\": 2,\n        \"samples\": [\n          1,\n          0\n        ],\n        \"semantic_type\": \"\",\n        \"description\": \"\"\n      }\n    },\n    {\n      \"column\": \"resource\",\n      \"properties\": {\n        \"dtype\": \"number\",\n        \"std\": 0,\n        \"min\": 0,\n        \"max\": 1,\n        \"num_unique_values\": 2,\n        \"samples\": [\n          1,\n          0\n        ],\n        \"semantic_type\": \"\",\n        \"description\": \"\"\n      }\n    },\n    {\n      \"column\": \"thanks\",\n      \"properties\": {\n        \"dtype\": \"number\",\n        \"std\": 0,\n        \"min\": 0,\n        \"max\": 1,\n        \"num_unique_values\": 2,\n        \"samples\": [\n          1,\n          0\n        ],\n        \"semantic_type\": \"\",\n        \"description\": \"\"\n      }\n    },\n    {\n      \"column\": \"there\",\n      \"properties\": {\n        \"dtype\": \"number\",\n        \"std\": 0,\n        \"min\": 0,\n        \"max\": 1,\n        \"num_unique_values\": 2,\n        \"samples\": [\n          1,\n          0\n        ],\n        \"semantic_type\": \"\",\n        \"description\": \"\"\n      }\n    },\n    {\n      \"column\": \"uploaded\",\n      \"properties\": {\n        \"dtype\": \"number\",\n        \"std\": 0,\n        \"min\": 0,\n        \"max\": 1,\n        \"num_unique_values\": 2,\n        \"samples\": [\n          1,\n          0\n        ],\n        \"semantic_type\": \"\",\n        \"description\": \"\"\n      }\n    },\n    {\n      \"column\": \"watched\",\n      \"properties\": {\n        \"dtype\": \"number\",\n        \"std\": 0,\n        \"min\": 0,\n        \"max\": 1,\n        \"num_unique_values\": 2,\n        \"samples\": [\n          1,\n          0\n        ],\n        \"semantic_type\": \"\",\n        \"description\": \"\"\n      }\n    },\n    {\n      \"column\": \"welcome\",\n      \"properties\": {\n        \"dtype\": \"number\",\n        \"std\": 0,\n        \"min\": 0,\n        \"max\": 1,\n        \"num_unique_values\": 2,\n        \"samples\": [\n          0,\n          1\n        ],\n        \"semantic_type\": \"\",\n        \"description\": \"\"\n      }\n    }\n  ]\n}"
            }
          },
          "metadata": {},
          "execution_count": 20
        }
      ]
    },
    {
      "cell_type": "markdown",
      "source": [
        "<style>\n",
        "blue {\n",
        "  color: skyblue;\n",
        "}\n",
        "</style>\n",
        "\n",
        "## 2) **Term Frequency-Inverse Document Frequency (TF-IDF)**\n",
        "\n",
        "TF-IDF is an extension of BoW that <blue>**assigns**</blue> a <blue>**weight**</blue> to each word, reflecting its <blue>**importance**</blue> in a document relative to a collection of documents (corpus). <blue>**Term Frequency (TF)**</blue> refers to <blue>**how often**</blue> a word appears in a document, while <blue>**Inverse Document Frequency (IDF)**</blue> measures <blue>**how rare**</blue> a word is across the entire corpus. Words that occur frequently in one document but rarely across others get higher TF-IDF scores. For example, <blue>**common words**</blue> like \"the\" and \"is\" receive <blue>**low weights**</blue>, while more <blue>**unique words**</blue> like \"neural\" in an article about AI would have a <blue>**higher weight**</blue>, giving a better sense of relevance."
      ],
      "metadata": {
        "id": "c4IZsAZecK5q"
      }
    },
    {
      "cell_type": "code",
      "source": [
        "from nltk.stem import WordNetLemmatizer\n",
        "import re\n",
        "import nltk\n",
        "from sklearn.feature_extraction.text import TfidfVectorizer\n",
        "from nltk.corpus import stopwords\n",
        "\n",
        "# Define all pre-processing steps except for Lemmatization\n",
        "def preprocessing_text(text):\n",
        "    emoji_pattern = r'^(?:[\\u2700-\\u27bf]|(?:\\ud83c[\\udde6-\\uddff]){1,2}|(?:\\ud83d[\\udc00-\\ude4f]){1,2}|[\\ud800-\\udbff][\\udc00-\\udfff]|[\\u0021-\\u002f\\u003a-\\u0040\\u005b-\\u0060\\u007b-\\u007e]|\\u3299|\\u3297|\\u303d|\\u3030|\\u24c2|\\ud83c[\\udd70-\\udd71]|\\ud83c[\\udd7e-\\udd7f]|\\ud83c\\udd8e|\\ud83c[\\udd91-\\udd9a]|\\ud83c[\\udde6-\\uddff]|\\ud83c[\\ude01-\\ude02]|\\ud83c\\ude1a|\\ud83c\\ude2f|\\ud83c[\\ude32-\\ude3a]|\\ud83c[\\ude50-\\ude51]|\\u203c|\\u2049|\\u25aa|\\u25ab|\\u25b6|\\u25c0|\\u25fb|\\u25fc|\\u25fd|\\u25fe|\\u2600|\\u2601|\\u260e|\\u2611|[^\\u0000-\\u007F])+$'\n",
        "\n",
        "    text= text.lower()\n",
        "    text = text.split()\n",
        "    text = ' '.join(text)\n",
        "    text = re.sub(r'[0-9]+', '', text)\n",
        "    text = re.sub(r'[^\\w\\s]', '', text)\n",
        "    text = re.sub(emoji_pattern, '', text)\n",
        "    text= re.sub(r'\\s+', ' ', text)\n",
        "\n",
        "    return text\n",
        "\n",
        "comments = \"\"\"Welcome to the NLP - Deep Learning Bootcamp.\n",
        "            Hope that you have watched all the resources uploaded on our official notion page.\n",
        "            If you have not please begin there, thanks!\n",
        "            \"\"\"\n",
        "\n",
        "sentences_list = nltk.sent_tokenize(comments)\n",
        "corpus = [preprocessing_text(sentence) for sentence in sentences_list]\n",
        "corpus"
      ],
      "metadata": {
        "id": "00yPwWw7cLmm",
        "outputId": "bac8483e-9d53-4ea6-b9c6-274115226fdd",
        "colab": {
          "base_uri": "https://localhost:8080/"
        }
      },
      "execution_count": 21,
      "outputs": [
        {
          "output_type": "execute_result",
          "data": {
            "text/plain": [
              "['welcome to the nlp deep learning bootcamp',\n",
              " 'hope that you have watched all the resources uploaded on our official notion page',\n",
              " 'if you have not please begin there thanks']"
            ]
          },
          "metadata": {},
          "execution_count": 21
        }
      ]
    },
    {
      "cell_type": "code",
      "source": [
        "# Calculating Product of Term Frequency & Inverse Document Frequency\n",
        "from sklearn.feature_extraction.text import TfidfVectorizer\n",
        "import pandas as pd\n",
        "\n",
        "tfidf_vectorizer = TfidfVectorizer()\n",
        "tfidf_matrix = tfidf_vectorizer.fit_transform(corpus)\n",
        "terms = tfidf_vectorizer.get_feature_names_out()\n",
        "df = pd.DataFrame(tfidf_matrix.toarray(), columns=terms)\n",
        "\n",
        "df"
      ],
      "metadata": {
        "id": "V6Pqm5Y1cO5N",
        "outputId": "e2655afc-31bb-4808-c3b1-728af627aa66",
        "colab": {
          "base_uri": "https://localhost:8080/",
          "height": 193
        }
      },
      "execution_count": 22,
      "outputs": [
        {
          "output_type": "execute_result",
          "data": {
            "text/plain": [
              "        all     begin  bootcamp      deep      have      hope        if  \\\n",
              "0  0.000000  0.000000  0.389888  0.389888  0.000000  0.000000  0.000000   \n",
              "1  0.280219  0.000000  0.000000  0.000000  0.213114  0.280219  0.000000   \n",
              "2  0.000000  0.373801  0.000000  0.000000  0.284285  0.000000  0.373801   \n",
              "\n",
              "   learning       nlp       not  ...  resources    thanks      that       the  \\\n",
              "0  0.389888  0.389888  0.000000  ...   0.000000  0.000000  0.000000  0.296520   \n",
              "1  0.000000  0.000000  0.000000  ...   0.280219  0.000000  0.280219  0.213114   \n",
              "2  0.000000  0.000000  0.373801  ...   0.000000  0.373801  0.000000  0.000000   \n",
              "\n",
              "      there        to  uploaded   watched   welcome       you  \n",
              "0  0.000000  0.389888  0.000000  0.000000  0.389888  0.000000  \n",
              "1  0.000000  0.000000  0.280219  0.280219  0.000000  0.213114  \n",
              "2  0.373801  0.000000  0.000000  0.000000  0.000000  0.284285  \n",
              "\n",
              "[3 rows x 26 columns]"
            ],
            "text/html": [
              "\n",
              "  <div id=\"df-91723eea-d7a9-4ebc-b5e6-d75e13b57291\" class=\"colab-df-container\">\n",
              "    <div>\n",
              "<style scoped>\n",
              "    .dataframe tbody tr th:only-of-type {\n",
              "        vertical-align: middle;\n",
              "    }\n",
              "\n",
              "    .dataframe tbody tr th {\n",
              "        vertical-align: top;\n",
              "    }\n",
              "\n",
              "    .dataframe thead th {\n",
              "        text-align: right;\n",
              "    }\n",
              "</style>\n",
              "<table border=\"1\" class=\"dataframe\">\n",
              "  <thead>\n",
              "    <tr style=\"text-align: right;\">\n",
              "      <th></th>\n",
              "      <th>all</th>\n",
              "      <th>begin</th>\n",
              "      <th>bootcamp</th>\n",
              "      <th>deep</th>\n",
              "      <th>have</th>\n",
              "      <th>hope</th>\n",
              "      <th>if</th>\n",
              "      <th>learning</th>\n",
              "      <th>nlp</th>\n",
              "      <th>not</th>\n",
              "      <th>...</th>\n",
              "      <th>resources</th>\n",
              "      <th>thanks</th>\n",
              "      <th>that</th>\n",
              "      <th>the</th>\n",
              "      <th>there</th>\n",
              "      <th>to</th>\n",
              "      <th>uploaded</th>\n",
              "      <th>watched</th>\n",
              "      <th>welcome</th>\n",
              "      <th>you</th>\n",
              "    </tr>\n",
              "  </thead>\n",
              "  <tbody>\n",
              "    <tr>\n",
              "      <th>0</th>\n",
              "      <td>0.000000</td>\n",
              "      <td>0.000000</td>\n",
              "      <td>0.389888</td>\n",
              "      <td>0.389888</td>\n",
              "      <td>0.000000</td>\n",
              "      <td>0.000000</td>\n",
              "      <td>0.000000</td>\n",
              "      <td>0.389888</td>\n",
              "      <td>0.389888</td>\n",
              "      <td>0.000000</td>\n",
              "      <td>...</td>\n",
              "      <td>0.000000</td>\n",
              "      <td>0.000000</td>\n",
              "      <td>0.000000</td>\n",
              "      <td>0.296520</td>\n",
              "      <td>0.000000</td>\n",
              "      <td>0.389888</td>\n",
              "      <td>0.000000</td>\n",
              "      <td>0.000000</td>\n",
              "      <td>0.389888</td>\n",
              "      <td>0.000000</td>\n",
              "    </tr>\n",
              "    <tr>\n",
              "      <th>1</th>\n",
              "      <td>0.280219</td>\n",
              "      <td>0.000000</td>\n",
              "      <td>0.000000</td>\n",
              "      <td>0.000000</td>\n",
              "      <td>0.213114</td>\n",
              "      <td>0.280219</td>\n",
              "      <td>0.000000</td>\n",
              "      <td>0.000000</td>\n",
              "      <td>0.000000</td>\n",
              "      <td>0.000000</td>\n",
              "      <td>...</td>\n",
              "      <td>0.280219</td>\n",
              "      <td>0.000000</td>\n",
              "      <td>0.280219</td>\n",
              "      <td>0.213114</td>\n",
              "      <td>0.000000</td>\n",
              "      <td>0.000000</td>\n",
              "      <td>0.280219</td>\n",
              "      <td>0.280219</td>\n",
              "      <td>0.000000</td>\n",
              "      <td>0.213114</td>\n",
              "    </tr>\n",
              "    <tr>\n",
              "      <th>2</th>\n",
              "      <td>0.000000</td>\n",
              "      <td>0.373801</td>\n",
              "      <td>0.000000</td>\n",
              "      <td>0.000000</td>\n",
              "      <td>0.284285</td>\n",
              "      <td>0.000000</td>\n",
              "      <td>0.373801</td>\n",
              "      <td>0.000000</td>\n",
              "      <td>0.000000</td>\n",
              "      <td>0.373801</td>\n",
              "      <td>...</td>\n",
              "      <td>0.000000</td>\n",
              "      <td>0.373801</td>\n",
              "      <td>0.000000</td>\n",
              "      <td>0.000000</td>\n",
              "      <td>0.373801</td>\n",
              "      <td>0.000000</td>\n",
              "      <td>0.000000</td>\n",
              "      <td>0.000000</td>\n",
              "      <td>0.000000</td>\n",
              "      <td>0.284285</td>\n",
              "    </tr>\n",
              "  </tbody>\n",
              "</table>\n",
              "<p>3 rows × 26 columns</p>\n",
              "</div>\n",
              "    <div class=\"colab-df-buttons\">\n",
              "\n",
              "  <div class=\"colab-df-container\">\n",
              "    <button class=\"colab-df-convert\" onclick=\"convertToInteractive('df-91723eea-d7a9-4ebc-b5e6-d75e13b57291')\"\n",
              "            title=\"Convert this dataframe to an interactive table.\"\n",
              "            style=\"display:none;\">\n",
              "\n",
              "  <svg xmlns=\"http://www.w3.org/2000/svg\" height=\"24px\" viewBox=\"0 -960 960 960\">\n",
              "    <path d=\"M120-120v-720h720v720H120Zm60-500h600v-160H180v160Zm220 220h160v-160H400v160Zm0 220h160v-160H400v160ZM180-400h160v-160H180v160Zm440 0h160v-160H620v160ZM180-180h160v-160H180v160Zm440 0h160v-160H620v160Z\"/>\n",
              "  </svg>\n",
              "    </button>\n",
              "\n",
              "  <style>\n",
              "    .colab-df-container {\n",
              "      display:flex;\n",
              "      gap: 12px;\n",
              "    }\n",
              "\n",
              "    .colab-df-convert {\n",
              "      background-color: #E8F0FE;\n",
              "      border: none;\n",
              "      border-radius: 50%;\n",
              "      cursor: pointer;\n",
              "      display: none;\n",
              "      fill: #1967D2;\n",
              "      height: 32px;\n",
              "      padding: 0 0 0 0;\n",
              "      width: 32px;\n",
              "    }\n",
              "\n",
              "    .colab-df-convert:hover {\n",
              "      background-color: #E2EBFA;\n",
              "      box-shadow: 0px 1px 2px rgba(60, 64, 67, 0.3), 0px 1px 3px 1px rgba(60, 64, 67, 0.15);\n",
              "      fill: #174EA6;\n",
              "    }\n",
              "\n",
              "    .colab-df-buttons div {\n",
              "      margin-bottom: 4px;\n",
              "    }\n",
              "\n",
              "    [theme=dark] .colab-df-convert {\n",
              "      background-color: #3B4455;\n",
              "      fill: #D2E3FC;\n",
              "    }\n",
              "\n",
              "    [theme=dark] .colab-df-convert:hover {\n",
              "      background-color: #434B5C;\n",
              "      box-shadow: 0px 1px 3px 1px rgba(0, 0, 0, 0.15);\n",
              "      filter: drop-shadow(0px 1px 2px rgba(0, 0, 0, 0.3));\n",
              "      fill: #FFFFFF;\n",
              "    }\n",
              "  </style>\n",
              "\n",
              "    <script>\n",
              "      const buttonEl =\n",
              "        document.querySelector('#df-91723eea-d7a9-4ebc-b5e6-d75e13b57291 button.colab-df-convert');\n",
              "      buttonEl.style.display =\n",
              "        google.colab.kernel.accessAllowed ? 'block' : 'none';\n",
              "\n",
              "      async function convertToInteractive(key) {\n",
              "        const element = document.querySelector('#df-91723eea-d7a9-4ebc-b5e6-d75e13b57291');\n",
              "        const dataTable =\n",
              "          await google.colab.kernel.invokeFunction('convertToInteractive',\n",
              "                                                    [key], {});\n",
              "        if (!dataTable) return;\n",
              "\n",
              "        const docLinkHtml = 'Like what you see? Visit the ' +\n",
              "          '<a target=\"_blank\" href=https://colab.research.google.com/notebooks/data_table.ipynb>data table notebook</a>'\n",
              "          + ' to learn more about interactive tables.';\n",
              "        element.innerHTML = '';\n",
              "        dataTable['output_type'] = 'display_data';\n",
              "        await google.colab.output.renderOutput(dataTable, element);\n",
              "        const docLink = document.createElement('div');\n",
              "        docLink.innerHTML = docLinkHtml;\n",
              "        element.appendChild(docLink);\n",
              "      }\n",
              "    </script>\n",
              "  </div>\n",
              "\n",
              "\n",
              "    <div id=\"df-3d32471b-7652-415e-a552-514c63232f5b\">\n",
              "      <button class=\"colab-df-quickchart\" onclick=\"quickchart('df-3d32471b-7652-415e-a552-514c63232f5b')\"\n",
              "                title=\"Suggest charts\"\n",
              "                style=\"display:none;\">\n",
              "\n",
              "<svg xmlns=\"http://www.w3.org/2000/svg\" height=\"24px\"viewBox=\"0 0 24 24\"\n",
              "     width=\"24px\">\n",
              "    <g>\n",
              "        <path d=\"M19 3H5c-1.1 0-2 .9-2 2v14c0 1.1.9 2 2 2h14c1.1 0 2-.9 2-2V5c0-1.1-.9-2-2-2zM9 17H7v-7h2v7zm4 0h-2V7h2v10zm4 0h-2v-4h2v4z\"/>\n",
              "    </g>\n",
              "</svg>\n",
              "      </button>\n",
              "\n",
              "<style>\n",
              "  .colab-df-quickchart {\n",
              "      --bg-color: #E8F0FE;\n",
              "      --fill-color: #1967D2;\n",
              "      --hover-bg-color: #E2EBFA;\n",
              "      --hover-fill-color: #174EA6;\n",
              "      --disabled-fill-color: #AAA;\n",
              "      --disabled-bg-color: #DDD;\n",
              "  }\n",
              "\n",
              "  [theme=dark] .colab-df-quickchart {\n",
              "      --bg-color: #3B4455;\n",
              "      --fill-color: #D2E3FC;\n",
              "      --hover-bg-color: #434B5C;\n",
              "      --hover-fill-color: #FFFFFF;\n",
              "      --disabled-bg-color: #3B4455;\n",
              "      --disabled-fill-color: #666;\n",
              "  }\n",
              "\n",
              "  .colab-df-quickchart {\n",
              "    background-color: var(--bg-color);\n",
              "    border: none;\n",
              "    border-radius: 50%;\n",
              "    cursor: pointer;\n",
              "    display: none;\n",
              "    fill: var(--fill-color);\n",
              "    height: 32px;\n",
              "    padding: 0;\n",
              "    width: 32px;\n",
              "  }\n",
              "\n",
              "  .colab-df-quickchart:hover {\n",
              "    background-color: var(--hover-bg-color);\n",
              "    box-shadow: 0 1px 2px rgba(60, 64, 67, 0.3), 0 1px 3px 1px rgba(60, 64, 67, 0.15);\n",
              "    fill: var(--button-hover-fill-color);\n",
              "  }\n",
              "\n",
              "  .colab-df-quickchart-complete:disabled,\n",
              "  .colab-df-quickchart-complete:disabled:hover {\n",
              "    background-color: var(--disabled-bg-color);\n",
              "    fill: var(--disabled-fill-color);\n",
              "    box-shadow: none;\n",
              "  }\n",
              "\n",
              "  .colab-df-spinner {\n",
              "    border: 2px solid var(--fill-color);\n",
              "    border-color: transparent;\n",
              "    border-bottom-color: var(--fill-color);\n",
              "    animation:\n",
              "      spin 1s steps(1) infinite;\n",
              "  }\n",
              "\n",
              "  @keyframes spin {\n",
              "    0% {\n",
              "      border-color: transparent;\n",
              "      border-bottom-color: var(--fill-color);\n",
              "      border-left-color: var(--fill-color);\n",
              "    }\n",
              "    20% {\n",
              "      border-color: transparent;\n",
              "      border-left-color: var(--fill-color);\n",
              "      border-top-color: var(--fill-color);\n",
              "    }\n",
              "    30% {\n",
              "      border-color: transparent;\n",
              "      border-left-color: var(--fill-color);\n",
              "      border-top-color: var(--fill-color);\n",
              "      border-right-color: var(--fill-color);\n",
              "    }\n",
              "    40% {\n",
              "      border-color: transparent;\n",
              "      border-right-color: var(--fill-color);\n",
              "      border-top-color: var(--fill-color);\n",
              "    }\n",
              "    60% {\n",
              "      border-color: transparent;\n",
              "      border-right-color: var(--fill-color);\n",
              "    }\n",
              "    80% {\n",
              "      border-color: transparent;\n",
              "      border-right-color: var(--fill-color);\n",
              "      border-bottom-color: var(--fill-color);\n",
              "    }\n",
              "    90% {\n",
              "      border-color: transparent;\n",
              "      border-bottom-color: var(--fill-color);\n",
              "    }\n",
              "  }\n",
              "</style>\n",
              "\n",
              "      <script>\n",
              "        async function quickchart(key) {\n",
              "          const quickchartButtonEl =\n",
              "            document.querySelector('#' + key + ' button');\n",
              "          quickchartButtonEl.disabled = true;  // To prevent multiple clicks.\n",
              "          quickchartButtonEl.classList.add('colab-df-spinner');\n",
              "          try {\n",
              "            const charts = await google.colab.kernel.invokeFunction(\n",
              "                'suggestCharts', [key], {});\n",
              "          } catch (error) {\n",
              "            console.error('Error during call to suggestCharts:', error);\n",
              "          }\n",
              "          quickchartButtonEl.classList.remove('colab-df-spinner');\n",
              "          quickchartButtonEl.classList.add('colab-df-quickchart-complete');\n",
              "        }\n",
              "        (() => {\n",
              "          let quickchartButtonEl =\n",
              "            document.querySelector('#df-3d32471b-7652-415e-a552-514c63232f5b button');\n",
              "          quickchartButtonEl.style.display =\n",
              "            google.colab.kernel.accessAllowed ? 'block' : 'none';\n",
              "        })();\n",
              "      </script>\n",
              "    </div>\n",
              "\n",
              "  <div id=\"id_51b9e392-8082-44af-8a11-04e3a3e65be9\">\n",
              "    <style>\n",
              "      .colab-df-generate {\n",
              "        background-color: #E8F0FE;\n",
              "        border: none;\n",
              "        border-radius: 50%;\n",
              "        cursor: pointer;\n",
              "        display: none;\n",
              "        fill: #1967D2;\n",
              "        height: 32px;\n",
              "        padding: 0 0 0 0;\n",
              "        width: 32px;\n",
              "      }\n",
              "\n",
              "      .colab-df-generate:hover {\n",
              "        background-color: #E2EBFA;\n",
              "        box-shadow: 0px 1px 2px rgba(60, 64, 67, 0.3), 0px 1px 3px 1px rgba(60, 64, 67, 0.15);\n",
              "        fill: #174EA6;\n",
              "      }\n",
              "\n",
              "      [theme=dark] .colab-df-generate {\n",
              "        background-color: #3B4455;\n",
              "        fill: #D2E3FC;\n",
              "      }\n",
              "\n",
              "      [theme=dark] .colab-df-generate:hover {\n",
              "        background-color: #434B5C;\n",
              "        box-shadow: 0px 1px 3px 1px rgba(0, 0, 0, 0.15);\n",
              "        filter: drop-shadow(0px 1px 2px rgba(0, 0, 0, 0.3));\n",
              "        fill: #FFFFFF;\n",
              "      }\n",
              "    </style>\n",
              "    <button class=\"colab-df-generate\" onclick=\"generateWithVariable('df')\"\n",
              "            title=\"Generate code using this dataframe.\"\n",
              "            style=\"display:none;\">\n",
              "\n",
              "  <svg xmlns=\"http://www.w3.org/2000/svg\" height=\"24px\"viewBox=\"0 0 24 24\"\n",
              "       width=\"24px\">\n",
              "    <path d=\"M7,19H8.4L18.45,9,17,7.55,7,17.6ZM5,21V16.75L18.45,3.32a2,2,0,0,1,2.83,0l1.4,1.43a1.91,1.91,0,0,1,.58,1.4,1.91,1.91,0,0,1-.58,1.4L9.25,21ZM18.45,9,17,7.55Zm-12,3A5.31,5.31,0,0,0,4.9,8.1,5.31,5.31,0,0,0,1,6.5,5.31,5.31,0,0,0,4.9,4.9,5.31,5.31,0,0,0,6.5,1,5.31,5.31,0,0,0,8.1,4.9,5.31,5.31,0,0,0,12,6.5,5.46,5.46,0,0,0,6.5,12Z\"/>\n",
              "  </svg>\n",
              "    </button>\n",
              "    <script>\n",
              "      (() => {\n",
              "      const buttonEl =\n",
              "        document.querySelector('#id_51b9e392-8082-44af-8a11-04e3a3e65be9 button.colab-df-generate');\n",
              "      buttonEl.style.display =\n",
              "        google.colab.kernel.accessAllowed ? 'block' : 'none';\n",
              "\n",
              "      buttonEl.onclick = () => {\n",
              "        google.colab.notebook.generateWithVariable('df');\n",
              "      }\n",
              "      })();\n",
              "    </script>\n",
              "  </div>\n",
              "\n",
              "    </div>\n",
              "  </div>\n"
            ],
            "application/vnd.google.colaboratory.intrinsic+json": {
              "type": "dataframe",
              "variable_name": "df"
            }
          },
          "metadata": {},
          "execution_count": 22
        }
      ]
    },
    {
      "cell_type": "code",
      "source": [
        "# Creating a Word Cloud\n",
        "texts = [\n",
        "    \"Python is a popular programming language.\",\n",
        "    \"NLP is a field of artificial intelligence that focuses on the interaction between computers and human language.\",\n",
        "    \"Sentiment analysis is the process of classifying the emotional intent of text.\",\n",
        "    \"Machine learning is an important application of AI.\",\n",
        "    \"Natural Language Processing is used for text analysis.\",\n",
        "    \"Python libraries like scikit-learn and NLTK are used in NLP.\",\n",
        "    \"AI and machine learning are transforming industries.\",\n",
        "    \"If you are interested in NLP, stay tuned!\"\n",
        "]"
      ],
      "metadata": {
        "id": "L2FwerYScQvZ"
      },
      "execution_count": 23,
      "outputs": []
    },
    {
      "cell_type": "code",
      "source": [
        "import re\n",
        "\n",
        "def clean_text(text):\n",
        "    clean_txt = text.lower()\n",
        "    # Clear characters other than numbers and letters of the alphabet only\n",
        "    clean_txt = re.sub(r'[^0-9a-zçğıiöşü\\s]', '', clean_txt,\n",
        "                       flags=re.IGNORECASE)\n",
        "\n",
        "    return ' '.join(sorted(clean_txt.split()))\n",
        "\n",
        "cleaned_texts = [clean_text(text) for text in texts]"
      ],
      "metadata": {
        "id": "N-cRGmbPdRfA"
      },
      "execution_count": 24,
      "outputs": []
    },
    {
      "cell_type": "code",
      "source": [
        "from sklearn.feature_extraction.text import TfidfVectorizer\n",
        "\n",
        "vectorizer = TfidfVectorizer()\n",
        "tfidf_matrix = vectorizer.fit_transform(cleaned_texts)"
      ],
      "metadata": {
        "id": "6ajJusPedS6S"
      },
      "execution_count": 25,
      "outputs": []
    },
    {
      "cell_type": "code",
      "source": [
        "from wordcloud import WordCloud\n",
        "import matplotlib.pyplot as plt\n",
        "\n",
        "wordcloud = WordCloud(width=800, height=400, background_color='white').generate_from_frequencies(vectorizer.vocabulary_)\n",
        "\n",
        "plt.figure(figsize=(10, 5))\n",
        "plt.imshow(wordcloud, interpolation='bilinear')\n",
        "plt.axis('off')\n",
        "plt.show()"
      ],
      "metadata": {
        "id": "8ohZ38-mdUEX",
        "outputId": "2b72506a-a249-4d70-ba10-0dd872b20362",
        "colab": {
          "base_uri": "https://localhost:8080/",
          "height": 422
        }
      },
      "execution_count": 26,
      "outputs": [
        {
          "output_type": "display_data",
          "data": {
            "text/plain": [
              "<Figure size 1000x500 with 1 Axes>"
            ],
            "image/png": "[encoded data removed]"
          },
          "metadata": {}
        }
      ]
    },
    {
      "cell_type": "markdown",
      "source": [
        "## **Advaced Level (Optional for Basic Level)**"
      ],
      "metadata": {
        "id": "VmVo9iL3dVyM"
      }
    },
    {
      "cell_type": "markdown",
      "source": [
        "<style>\n",
        "blue {\n",
        "  color: skyblue;\n",
        "}\n",
        "</style>\n",
        "\n",
        "## 3) **Encodings**\n",
        "\n",
        "<blue>**Label Encoding**</blue> is a technique used in machine learning and data processing to convert <blue>**categorical data**</blue> (such as text-based or symbolic data) into <blue>**numerical values**</blue>. For example, if you have categories like “Apple”, “Chicken” and “Broccoli” you assign them numerical labels such as 1 for “Apple”, 2 for “Chicken” and 3 for “Broccoli”.\n",
        "\n",
        "<blue>**One-hot Encoding**</blue> is another technique used in machine learning to convert <blue>**categorical data**</blue> into a format that can be provided to machine learning algorithms more easily. One-hot Encoding takes each categorical value and turns it into a <blue>**binary vector**</blue>. Each category is represented as a binary vector.\n"
      ],
      "metadata": {
        "id": "8c-59GzxdYSc"
      }
    },
    {
      "cell_type": "code",
      "source": [
        "import nltk\n",
        "from sklearn.preprocessing import OneHotEncoder\n",
        "import numpy as np\n",
        "\n",
        "# Download NLTK data\n",
        "nltk.download('punkt')\n",
        "\n",
        "# Sample corpus\n",
        "corpus = [\n",
        "    \"Python is a popular programming language.\",\n",
        "    \"NLP is a field of artificial intelligence that focuses on the interaction between computers and human language.\",\n",
        "    \"Sentiment analysis is the process of classifying the emotional intent of text.\",\n",
        "    \"Machine learning is an important application of AI.\",\n",
        "    \"Natural Language Processing is used for text analysis.\",\n",
        "    \"Python libraries like scikit-learn and NLTK are used in NLP.\",\n",
        "    \"AI and machine learning are transforming industries.\",\n",
        "    \"If you are interested in NLP, stay tuned!\"\n",
        "]\n",
        "\n",
        "# Tokenize the corpus using NLTK\n",
        "tokenized_corpus = [nltk.word_tokenize(sentence.lower()) for sentence in corpus]\n",
        "\n",
        "# Flatten the list to get all words in the corpus\n",
        "all_words = [word for sentence in tokenized_corpus for word in sentence]\n",
        "\n",
        "# Get unique words (vocabulary)\n",
        "vocab = sorted(set(all_words))\n",
        "\n",
        "# Print vocabulary\n",
        "print(\"Vocabulary:\", vocab)\n",
        "\n",
        "# Reshape the list of words into a 2D array for OneHotEncoder\n",
        "word_array = np.array(all_words).reshape(-1, 1)\n",
        "\n",
        "# Apply OneHotEncoder\n",
        "one_hot_encoder = OneHotEncoder(sparse_output=False)\n",
        "one_hot_encoded = one_hot_encoder.fit_transform(word_array)\n",
        "\n",
        "# Print the one-hot encoded data\n",
        "print(\"One-hot encoded matrix:\\n\", one_hot_encoded)\n"
      ],
      "metadata": {
        "id": "b-4qIoB_daUG",
        "outputId": "37aeaeb4-34a9-47c8-95df-00d314707e7d",
        "colab": {
          "base_uri": "https://localhost:8080/"
        }
      },
      "execution_count": 27,
      "outputs": [
        {
          "output_type": "stream",
          "name": "stderr",
          "text": [
            "[nltk_data] Downloading package punkt to /root/nltk_data...\n",
            "[nltk_data]   Unzipping tokenizers/punkt.zip.\n"
          ]
        },
        {
          "output_type": "stream",
          "name": "stdout",
          "text": [
            "Vocabulary: ['!', ',', '.', 'a', 'ai', 'an', 'analysis', 'and', 'application', 'are', 'artificial', 'between', 'classifying', 'computers', 'emotional', 'field', 'focuses', 'for', 'human', 'if', 'important', 'in', 'industries', 'intelligence', 'intent', 'interaction', 'interested', 'is', 'language', 'learning', 'libraries', 'like', 'machine', 'natural', 'nlp', 'nltk', 'of', 'on', 'popular', 'process', 'processing', 'programming', 'python', 'scikit-learn', 'sentiment', 'stay', 'text', 'that', 'the', 'transforming', 'tuned', 'used', 'you']\n",
            "One-hot encoded matrix:\n",
            " [[0. 0. 0. ... 0. 0. 0.]\n",
            " [0. 0. 0. ... 0. 0. 0.]\n",
            " [0. 0. 0. ... 0. 0. 0.]\n",
            " ...\n",
            " [0. 0. 0. ... 0. 0. 0.]\n",
            " [0. 0. 0. ... 1. 0. 0.]\n",
            " [1. 0. 0. ... 0. 0. 0.]]\n"
          ]
        }
      ]
    },
    {
      "cell_type": "markdown",
      "source": [
        "<style>\n",
        "blue {\n",
        "  color: skyblue;\n",
        "}\n",
        "</style>\n",
        "\n",
        "## 4) **Word Embeddings**\n",
        "\n",
        "Word embeddings are <blue>**dense vector representations**</blue> of words that capture their meanings by placing words with <blue>**similar meanings closer**</blue> in <blue>**vector space**</blue>. Unlike BoW or one-hot encoding, embeddings <blue>**capture relationships**</blue> between words based on context. For example, in an embedding space, words like \"king\" and \"queen\" or \"apple\" and \"fruit\" would be closer together, reflecting their <blue>**semantic similarity**</blue>. These embeddings are learned from large datasets and can be used as inputs to machine learning models for various NLP tasks. Popular techniques for generating word embeddings include <blue>**Word2Vec**</blue>, <blue>**GloVe**</blue>, and <blue>**FastText**</blue>."
      ],
      "metadata": {
        "id": "XPA4J8ZKdel9"
      }
    },
    {
      "cell_type": "markdown",
      "source": [
        "<style>\n",
        "blue {\n",
        "  color: skyblue;\n",
        "}\n",
        "</style>\n",
        "\n",
        "## 5) **Word2Vec**\n",
        "\n",
        "Word2Vec is a model used to <blue>**learn word embeddings**</blue>, developed by <blue>**Google**</blue>. It transforms words into <blue>**continuous vector representations**</blue> using neural networks. There are two primary approaches: <blue>**Skip-gram**</blue> and <blue>**Continuous Bag of Words (CBOW)**</blue>. Skip-gram <blue>**predicts surrounding words**</blue> given a <blue>**target word**</blue>, while CBOW <blue>**predicts**</blue> the <blue>**target word**</blue> based on its <blue>**context**</blue>. For example, in the sentence \"The dog barked loudly\", Skip-gram might learn that \"dog\" is likely to appear near words like \"barked\", while CBOW learns that \"dog\" fits between \"The\" and \"barked\". This method helps capture semantic relationships between words in a computationally efficient manner.\n",
        "\n"
      ],
      "metadata": {
        "id": "x_SAwrsCdhL0"
      }
    },
    {
      "cell_type": "code",
      "source": [
        "!pip install gensim\n",
        "import gensim\n",
        "from gensim.models import Word2Vec\n",
        "\n",
        "sentences = [\n",
        "    ['this', 'is', 'an', 'example', 'sentence', 'for', 'word2vec'],\n",
        "    ['we', 'are', 'creating', 'a', 'word2vec', 'model', 'using', 'the', 'gensim', 'library'],\n",
        "    ['we', 'are', 'working', 'with', 'cbow', 'and', 'skipgram', 'models'],\n",
        "    ['python', 'is', 'a', 'programming', 'language', 'for', 'natural', 'language', 'processing'],\n",
        "    ['word2vec', 'is', 'one', 'of', 'the', 'word', 'embedding', 'techniques'],\n",
        "    ['the', 'word2vec', 'model', 'is', 'used', 'for', 'word', 'embeddings'],\n",
        "    ['gensim', 'provides', 'an', 'easy', 'way', 'to', 'train', 'word2vec', 'models'],\n",
        "    ['cbow', 'and', 'skipgram', 'are', 'two', 'types', 'of', 'word2vec', 'models'],\n",
        "    ['word2vec', 'is', 'a', 'technique', 'for', 'natural', 'language', 'processing'],\n",
        "    ['this', 'sentence', 'is', 'about', 'word2vec', 'and', 'its', 'applications'],\n",
        "    ['word2vec', 'is', 'a', 'popular', 'word', 'embedding', 'method'],\n",
        "    ['many', 'researchers', 'use', 'word2vec', 'for', 'various', 'nlp', 'tasks'],\n",
        "    ['the', 'skipgram', 'model', 'focuses', 'on', 'predicting', 'context', 'words'],\n",
        "    ['cbow', 'model', 'predicts', 'the', 'center', 'word', 'from', 'context', 'words'],\n",
        "    ['natural', 'language', 'processing', 'involves', 'working', 'with', 'large', 'datasets']\n",
        "]\n",
        "\n",
        "cbow_model = Word2Vec(sentences, vector_size=100, window=5, min_count=1, sg=0, alpha=0.03, min_alpha=0.0007, epochs=100)\n",
        "skipgram_model = Word2Vec(sentences, vector_size=100, window=5, min_count=1, sg=1, alpha=0.03, min_alpha=0.0007, epochs=100)\n",
        "\n",
        "cbow_model.train(sentences, total_examples=len(sentences), epochs=100)\n",
        "skipgram_model.train(sentences, total_examples=len(sentences), epochs=100)\n",
        "\n",
        "word_vectors_cbow = cbow_model.wv\n",
        "similarity_cbow = word_vectors_cbow.similarity('word2vec', 'gensim')\n",
        "print(f\"Similarity between 'word2vec' and 'gensim': {similarity_cbow} with CBOW\")\n",
        "\n",
        "\n",
        "word_vectors_skipgram= skipgram_model.wv\n",
        "similarity_skip = word_vectors_skipgram.similarity('word2vec', 'gensim')\n",
        "print(f\"Similarity between 'word2vec' and 'gensim': {similarity_skip} with Skip-Gram\")"
      ],
      "metadata": {
        "id": "7Z8EYtd4djlX",
        "outputId": "7d861f03-ac4b-49f9-abb8-ed586a2b7898",
        "colab": {
          "base_uri": "https://localhost:8080/"
        }
      },
      "execution_count": 30,
      "outputs": [
        {
          "output_type": "stream",
          "name": "stdout",
          "text": [
            "Collecting gensim\n",
            "  Downloading gensim-4.4.0-cp312-cp312-manylinux_2_24_x86_64.manylinux_2_28_x86_64.whl.metadata (8.4 kB)\n",
            "Requirement already satisfied: numpy>=1.18.5 in /usr/local/lib/python3.12/dist-packages (from gensim) (2.0.2)\n",
            "Requirement already satisfied: scipy>=1.7.0 in /usr/local/lib/python3.12/dist-packages (from gensim) (1.16.2)\n",
            "Requirement already satisfied: smart_open>=1.8.1 in /usr/local/lib/python3.12/dist-packages (from gensim) (7.3.1)\n",
            "Requirement already satisfied: wrapt in /usr/local/lib/python3.12/dist-packages (from smart_open>=1.8.1->gensim) (1.17.3)\n",
            "Downloading gensim-4.4.0-cp312-cp312-manylinux_2_24_x86_64.manylinux_2_28_x86_64.whl (27.9 MB)\n",
            "\u001b[2K   \u001b[90m━━━━━━━━━━━━━━━━━━━━━━━━━━━━━━━━━━━━━━━━\u001b[0m \u001b[32m27.9/27.9 MB\u001b[0m \u001b[31m54.2 MB/s\u001b[0m eta \u001b[36m0:00:00\u001b[0m\n",
            "\u001b[?25hInstalling collected packages: gensim\n",
            "Successfully installed gensim-4.4.0\n"
          ]
        },
        {
          "output_type": "stream",
          "name": "stderr",
          "text": [
            "WARNING:gensim.models.word2vec:Effective 'alpha' higher than previous training cycles\n",
            "WARNING:gensim.models.word2vec:Effective 'alpha' higher than previous training cycles\n"
          ]
        },
        {
          "output_type": "stream",
          "name": "stdout",
          "text": [
            "Similarity between 'word2vec' and 'gensim': 0.9972667098045349 with CBOW\n",
            "Similarity between 'word2vec' and 'gensim': 0.9977070093154907 with Skip-Gram\n"
          ]
        }
      ]
    }
  ],
  "metadata": {
    "kernelspec": {
      "display_name": "Python 3",
      "language": "python",
      "name": "python3"
    },
    "language_info": {
      "codemirror_mode": {
        "name": "ipython",
        "version": 3
      },
      "file_extension": ".py",
      "mimetype": "text/x-python",
      "name": "python",
      "nbconvert_exporter": "python",
      "pygments_lexer": "ipython3",
      "version": "3.11.9"
    },
    "colab": {
      "provenance": []
    }
  },
  "nbformat": 4,
  "nbformat_minor": 0
}