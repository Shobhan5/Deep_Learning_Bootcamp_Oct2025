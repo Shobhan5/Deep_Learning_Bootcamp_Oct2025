{
  "cells": [
    {
      "cell_type": "markdown",
      "metadata": {
        "id": "1nwRbwMoPrdX"
      },
      "source": [
        "# **Computer Vision Track - Assignment 1**\n",
        "## **Artificial Neural Network for Image Classification**\n",
        "\n",
        "In this assignment, we explore the fundamentals of building a neural network for image classification. Image classification is a core task in computer vision, where the goal is to correctly identify and categorize objects in images. We will design and implement a neural network from scratch using popular machine learning libraries, applying key concepts such as activation functions, and backpropagation. By training the model on a labeled dataset, we aim to evaluate its performance and understand how different network architectures influence classification accuracy. This assignment serves as a practical introduction to deep learning in computer vision."
      ]
    },
    {
      "cell_type": "markdown",
      "metadata": {
        "id": "K9kAubNDPrda"
      },
      "source": [
        "===================================================================================================="
      ]
    },
    {
      "cell_type": "markdown",
      "metadata": {
        "id": "o9HNCvuLPrdb"
      },
      "source": [
        "<style>\n",
        "blue {\n",
        "  color: skyblue;\n",
        "}\n",
        "\n",
        "red {\n",
        "  color: red;\n",
        "}\n",
        "\n",
        "green {\n",
        "  color: lightgreen;\n",
        "}\n",
        "</style>\n",
        "\n",
        "### **Step - 1**\n",
        "\n",
        "The code below imports essential libraries for building and training an artificial neural network (ANN) using PyTorch.\n",
        "1) <blue>**torch**</blue> and <blue>**torch.nn**</blue> provide core functionality for tensors and neural networks.\n",
        "2) <blue>**optim**</blue> offers optimization algorithms (like <green>**Adam**</green>).\n",
        "3) <blue>**torchvision**</blue> helps with image-related tasks, and transforms aids in image preprocessing.\n",
        "4) <blue>**DataLoader**</blue> is used to load datasets in batches.\n",
        "5) Libraries like <blue>**matplotlib**</blue>, <blue>**seaborn**</blue>, and <blue>**sklearn.metrics**</blue> help visualize results and evaluate the model using metrics such as <green>**accuracy**</green>, <green>**precision**</green>, <green>**recall**</green> etc."
      ]
    },
    {
      "cell_type": "code",
      "execution_count": 3,
      "metadata": {
        "id": "zlGs4hZxPrdb"
      },
      "outputs": [],
      "source": [
        "# Import necessary libraries\n",
        "import torch\n",
        "import torch.nn as nn\n",
        "import torch.optim as optim\n",
        "import torchvision\n",
        "import torchvision.transforms as transforms\n",
        "from torch.utils.data import DataLoader\n",
        "import matplotlib.pyplot as plt\n",
        "from sklearn.metrics import accuracy_score, precision_score, recall_score, f1_score, confusion_matrix\n",
        "import seaborn as sns\n",
        "import numpy as np"
      ]
    },
    {
      "cell_type": "markdown",
      "metadata": {
        "id": "dNgo04L_Prdc"
      },
      "source": [
        "<style>\n",
        "blue {\n",
        "  color: skyblue;\n",
        "}\n",
        "\n",
        "red {\n",
        "  color: red;\n",
        "}\n",
        "\n",
        "green {\n",
        "  color: lightgreen;\n",
        "}\n",
        "</style>\n",
        "\n",
        "### **Step - 2**\n",
        "1) The <blue>**device**</blue> variable ensures the model runs on a <green>**GPU**</green> if available; otherwise, it falls back to a <green>**CPU**</green>.\n",
        "2) The <blue>**transform**</blue> object defines the <green>**preprocessing**</green> steps for images\n",
        "3) <blue>**ToTensor()**</blue> converts images to tensors.\n",
        "4) <blue>**Normalize((0.5,), (0.5,))**</blue> normalizes the images to a range between -1 and 1, helping with better convergence during training."
      ]
    },
    {
      "cell_type": "code",
      "execution_count": 4,
      "metadata": {
        "id": "EamGEHklPrdd"
      },
      "outputs": [],
      "source": [
        "# Set device (GPU if available, else CPU)\n",
        "device = torch.device('cuda' if torch.cuda.is_available() else 'cpu')\n",
        "\n",
        "# Define the transformations (Normalization)\n",
        "transform = transforms.Compose([\n",
        "    transforms.ToTensor(),\n",
        "    transforms.Normalize((0.5,), (0.5,))  # Normalize the dataset to range [-1, 1]\n",
        "])"
      ]
    },
    {
      "cell_type": "markdown",
      "metadata": {
        "id": "N3X2Bh7IPrdd"
      },
      "source": [
        "<style>\n",
        "blue {\n",
        "  color: skyblue;\n",
        "}\n",
        "\n",
        "red {\n",
        "  color: red;\n",
        "}\n",
        "\n",
        "green {\n",
        "  color: lightgreen;\n",
        "}\n",
        "</style>\n",
        "\n",
        "### **Step - 3**\n",
        "1) This code outlines loading the <blue>**MNIST**</blue> dataset for <green>**handwritten digit recognition**</green>.\n",
        "2) The <blue>**train_loader**</blue> and <blue>**test_loader**</blue> are used to load the datasets in batches of 64, with shuffling applied only to the training set.\n",
        "3) The <blue>**dataiter**</blue> and next commands allow viewing a batch of images and labels, which can be useful for visualization before training.\n",
        "\n",
        "\n",
        "Note: The placeholders **\"None\"** need to be replaced with the correct dataset-loading code."
      ]
    },
    {
      "cell_type": "code",
      "execution_count": 5,
      "metadata": {
        "id": "P2t7Xa7bPrde",
        "colab": {
          "base_uri": "https://localhost:8080/"
        },
        "outputId": "6148cd02-a9b0-4e5b-b10b-7b180de3df56"
      },
      "outputs": [
        {
          "output_type": "stream",
          "name": "stderr",
          "text": [
            "100%|██████████| 9.91M/9.91M [00:00<00:00, 57.1MB/s]\n",
            "100%|██████████| 28.9k/28.9k [00:00<00:00, 1.66MB/s]\n",
            "100%|██████████| 1.65M/1.65M [00:00<00:00, 14.5MB/s]\n",
            "100%|██████████| 4.54k/4.54k [00:00<00:00, 6.95MB/s]\n"
          ]
        }
      ],
      "source": [
        "# Load the MNIST dataset\n",
        "import torchvision.transforms as transforms\n",
        "from torch.utils.data import DataLoader\n",
        "import torchvision\n",
        "\n",
        "transform = transforms.Compose([\n",
        "    transforms.ToTensor(),\n",
        "    transforms.Normalize((0.5,), (0.5,))\n",
        "])\n",
        "\n",
        "# Download and load training and test datasets\n",
        "traindataset = torchvision.datasets.MNIST(root='./data', train=True, transform=transform, download=True)\n",
        "testdataset = torchvision.datasets.MNIST(root='./data', train=False, transform=transform, download=True)\n",
        "\n",
        "trainloader = DataLoader(dataset=traindataset, batch_size=64, shuffle=True)\n",
        "testloader = DataLoader(dataset=testdataset, batch_size=64, shuffle=False)\n",
        "\n",
        "# Visualize a batch of images (optional)\n",
        "dataiter = iter(trainloader)\n",
        "images, labels = next(dataiter)"
      ]
    },
    {
      "cell_type": "markdown",
      "metadata": {
        "id": "6E7sozDDPrde"
      },
      "source": [
        "<style>\n",
        "blue {\n",
        "  color: skyblue;\n",
        "}\n",
        "\n",
        "red {\n",
        "  color: red;\n",
        "}\n",
        "\n",
        "green {\n",
        "  color: lightgreen;\n",
        "}\n",
        "</style>\n",
        "\n",
        "### **Step - 4**\n",
        "1) This code defines a simple <green>**feedforward artificial neural network (ANN)**</green> for classifying MNIST digits.\n",
        "2) The model has three fully connected layers <blue>**(fc1, fc2, fc3)**</blue>, and the final layer outputs predictions for <green>**10 classes (digits 0–9)**</green>.\n",
        "3) The <green>**forward pass**</green> describes how the input data flows through the network\n",
        "4) The input image is first <green>**flattened**</green>.\n",
        "5) It passes through fully connected layers with <blue>**ReLU activation function**</blue>.\n",
        "\n",
        "Note: Replace the placeholders **\"None\"** with the appropriate numbers of units and activation functions in each layer."
      ]
    },
    {
      "cell_type": "code",
      "execution_count": 6,
      "metadata": {
        "id": "lKvY2HfCPrdf"
      },
      "outputs": [],
      "source": [
        "# Define the neural network model\n",
        "import torch.nn as nn\n",
        "\n",
        "class ANN(nn.Module):\n",
        "    def __init__(self):\n",
        "        super(ANN, self).__init__()\n",
        "        self.fc1 = nn.Linear(28*28, 128)  # First hidden layer: 128 units\n",
        "        self.fc2 = nn.Linear(128, 64)     # Second hidden layer: 64 units\n",
        "        self.fc3 = nn.Linear(64, 10)      # Output layer: 10 units (classes)\n",
        "\n",
        "    def forward(self, x):\n",
        "        x = x.view(-1, 28*28)             # Flatten the image\n",
        "        x = nn.functional.relu(self.fc1(x))\n",
        "        x = nn.functional.relu(self.fc2(x))\n",
        "        x = self.fc3(x)\n",
        "        return x"
      ]
    },
    {
      "cell_type": "markdown",
      "metadata": {
        "id": "DkQ9l65mPrdf"
      },
      "source": [
        "<style>\n",
        "blue {\n",
        "  color: skyblue;\n",
        "}\n",
        "\n",
        "red {\n",
        "  color: red;\n",
        "}\n",
        "\n",
        "green {\n",
        "  color: lightgreen;\n",
        "}\n",
        "</style>\n",
        "\n",
        "### **Step - 5**\n",
        "1) The <blue>**ANN model**</blue> is instantiated and moved to the <green>**selected device (CPU or GPU)**</green>.\n",
        "2) The loss function is set to <blue>**CrossEntropyLoss**</blue>, which is suitable for <green>**multi-class classification**</green> problems like MNIST.\n",
        "3) The optimizer is <blue>**Adam**</blue>, with a <blue>**learning rate**</blue> of <green>**0.001**</green>, used to adjust the model parameters during training based on gradients computed from the loss."
      ]
    },
    {
      "cell_type": "code",
      "execution_count": 7,
      "metadata": {
        "id": "H6aIeOh4Prdf"
      },
      "outputs": [],
      "source": [
        "# Initialize the model, loss function, and optimizer\n",
        "device = torch.device(\"cuda\" if torch.cuda.is_available() else \"cpu\")\n",
        "model = ANN().to(device)\n",
        "criterion = nn.CrossEntropyLoss()\n",
        "optimizer = torch.optim.Adam(model.parameters(), lr=0.001)"
      ]
    },
    {
      "cell_type": "markdown",
      "metadata": {
        "id": "KuJXZw4qPrdg"
      },
      "source": [
        "<style>\n",
        "blue {\n",
        "  color: skyblue;\n",
        "}\n",
        "\n",
        "red {\n",
        "  color: red;\n",
        "}\n",
        "\n",
        "green {\n",
        "  color: lightgreen;\n",
        "}\n",
        "</style>\n",
        "\n",
        "### **Step - 6**\n",
        "This code trains the neural network over a specified number of epochs (num_epochs).\n",
        "For each batch of images and labels, the following steps are performed:\n",
        "1) <blue>**Data Movement**</blue>: Images and labels are moved to the <green>**device (CPU or GPU)**</green>.\n",
        "2) <blue>**Forward Pass**</blue>: Images pass through the network to compute the <green>**output predictions**</green>.\n",
        "3) <blue>**Loss Calculation**</blue>: The loss between the predictions and true labels is computed and added to <blue>**ls_losses**</blue> for tracking.\n",
        "4) <blue>**Backpropagation and Optimization**</blue>: Gradients are calculated using backpropagation, and the optimizer <green>**updates the model parameters**</green> based on these gradients.\n",
        "\n",
        "Every 100 batches, the loss is printed to monitor training progress."
      ]
    },
    {
      "cell_type": "code",
      "execution_count": 8,
      "metadata": {
        "id": "TW7YoMBlPrdg",
        "colab": {
          "base_uri": "https://localhost:8080/"
        },
        "outputId": "4ff95001-1001-4ce2-cb04-c4a91d8083e5"
      },
      "outputs": [
        {
          "output_type": "stream",
          "name": "stdout",
          "text": [
            "Epoch [1/5], Step [100/938], Loss: 0.5468\n",
            "Epoch [1/5], Step [200/938], Loss: 0.4076\n",
            "Epoch [1/5], Step [300/938], Loss: 0.2156\n",
            "Epoch [1/5], Step [400/938], Loss: 0.4882\n",
            "Epoch [1/5], Step [500/938], Loss: 0.1713\n",
            "Epoch [1/5], Step [600/938], Loss: 0.3874\n",
            "Epoch [1/5], Step [700/938], Loss: 0.1924\n",
            "Epoch [1/5], Step [800/938], Loss: 0.3624\n",
            "Epoch [1/5], Step [900/938], Loss: 0.3341\n",
            "Epoch [2/5], Step [100/938], Loss: 0.1973\n",
            "Epoch [2/5], Step [200/938], Loss: 0.2293\n",
            "Epoch [2/5], Step [300/938], Loss: 0.0809\n",
            "Epoch [2/5], Step [400/938], Loss: 0.1183\n",
            "Epoch [2/5], Step [500/938], Loss: 0.1351\n",
            "Epoch [2/5], Step [600/938], Loss: 0.2310\n",
            "Epoch [2/5], Step [700/938], Loss: 0.0770\n",
            "Epoch [2/5], Step [800/938], Loss: 0.0664\n",
            "Epoch [2/5], Step [900/938], Loss: 0.1181\n",
            "Epoch [3/5], Step [100/938], Loss: 0.0297\n",
            "Epoch [3/5], Step [200/938], Loss: 0.1049\n",
            "Epoch [3/5], Step [300/938], Loss: 0.1896\n",
            "Epoch [3/5], Step [400/938], Loss: 0.0562\n",
            "Epoch [3/5], Step [500/938], Loss: 0.0590\n",
            "Epoch [3/5], Step [600/938], Loss: 0.0478\n",
            "Epoch [3/5], Step [700/938], Loss: 0.0174\n",
            "Epoch [3/5], Step [800/938], Loss: 0.1095\n",
            "Epoch [3/5], Step [900/938], Loss: 0.0312\n",
            "Epoch [4/5], Step [100/938], Loss: 0.0764\n",
            "Epoch [4/5], Step [200/938], Loss: 0.0262\n",
            "Epoch [4/5], Step [300/938], Loss: 0.1069\n",
            "Epoch [4/5], Step [400/938], Loss: 0.0425\n",
            "Epoch [4/5], Step [500/938], Loss: 0.1950\n",
            "Epoch [4/5], Step [600/938], Loss: 0.1203\n",
            "Epoch [4/5], Step [700/938], Loss: 0.0747\n",
            "Epoch [4/5], Step [800/938], Loss: 0.0572\n",
            "Epoch [4/5], Step [900/938], Loss: 0.0424\n",
            "Epoch [5/5], Step [100/938], Loss: 0.0338\n",
            "Epoch [5/5], Step [200/938], Loss: 0.0896\n",
            "Epoch [5/5], Step [300/938], Loss: 0.1527\n",
            "Epoch [5/5], Step [400/938], Loss: 0.0311\n",
            "Epoch [5/5], Step [500/938], Loss: 0.0720\n",
            "Epoch [5/5], Step [600/938], Loss: 0.2748\n",
            "Epoch [5/5], Step [700/938], Loss: 0.2413\n",
            "Epoch [5/5], Step [800/938], Loss: 0.0572\n",
            "Epoch [5/5], Step [900/938], Loss: 0.0838\n"
          ]
        }
      ],
      "source": [
        "# Training the network\n",
        "numepochs = 5\n",
        "lslosses = []\n",
        "\n",
        "for epoch in range(numepochs):\n",
        "    for i, (images, labels) in enumerate(trainloader):\n",
        "        images = images.to(device)\n",
        "        labels = labels.to(device)\n",
        "\n",
        "        # Forward pass\n",
        "        outputs = model(images)\n",
        "        loss = criterion(outputs, labels)\n",
        "        lslosses.append(loss.detach().cpu().numpy())\n",
        "\n",
        "        # Backward and optimize\n",
        "        optimizer.zero_grad()\n",
        "        loss.backward()\n",
        "        optimizer.step()\n",
        "\n",
        "        if (i+1) % 100 == 0:\n",
        "            print(f\"Epoch [{epoch+1}/{numepochs}], Step [{i+1}/{len(trainloader)}], Loss: {loss.item():.4f}\")"
      ]
    },
    {
      "cell_type": "markdown",
      "metadata": {
        "id": "43LoiNKgPrdg"
      },
      "source": [
        "<style>\n",
        "blue {\n",
        "  color: skyblue;\n",
        "}\n",
        "\n",
        "red {\n",
        "  color: red;\n",
        "}\n",
        "\n",
        "green {\n",
        "  color: lightgreen;\n",
        "}\n",
        "</style>\n",
        "\n",
        "### **Step - 7**\n",
        "1) This code plots the <blue>**training losses**</blue> that were recorded in <blue>**ls_losses**</blue> during training.\n",
        "2) The <blue>**x-axis**</blue> represents the <green>**number of samples (batches)**</green> seen during training, and the <blue>**y-axis**</blue> shows the <green>**corresponding loss**</green>.\n",
        "3) It provides a visual representation of how the <green>**model's loss decreases over time**</green>, indicating whether the training is progressing well."
      ]
    },
    {
      "cell_type": "code",
      "execution_count": 9,
      "metadata": {
        "id": "0f_wNHxqPrdg",
        "colab": {
          "base_uri": "https://localhost:8080/",
          "height": 449
        },
        "outputId": "f3e3e424-b486-4e62-a728-9ec8b065860c"
      },
      "outputs": [
        {
          "output_type": "display_data",
          "data": {
            "text/plain": [
              "<Figure size 640x480 with 1 Axes>"
            ],
            "image/png": "[encoded data removed]"
          },
          "metadata": {}
        }
      ],
      "source": [
        "# Plot Losses\n",
        "\n",
        "import numpy as np\n",
        "import matplotlib.pyplot as plt\n",
        "\n",
        "xaxis = np.arange(0, len(lslosses), 1)\n",
        "plt.plot(xaxis, lslosses)\n",
        "plt.xlabel(\"Sample\")\n",
        "plt.ylabel(\"Loss\")\n",
        "plt.show()"
      ]
    },
    {
      "cell_type": "markdown",
      "metadata": {
        "id": "U5QyuPxmPrdg"
      },
      "source": [
        "<style>\n",
        "blue {\n",
        "  color: skyblue;\n",
        "}\n",
        "\n",
        "red {\n",
        "  color: red;\n",
        "}\n",
        "\n",
        "green {\n",
        "  color: lightgreen;\n",
        "}\n",
        "</style>\n",
        "\n",
        "### **Step - 8**\n",
        "This block evaluates the model on the test dataset.\\\n",
        "<blue>**model.eval()**</blue> sets the model to <green>**evaluation mode**</green>, disabling dropout layers and stopping the computation of gradients to save memory and speed up computations.\n",
        "For each batch of test images:\n",
        "1) <blue>**Data Movement**</blue>: Images and labels are moved to the <green>**device (CPU/GPU)**</green>.\n",
        "2) <blue>**Forward Pass**</blue>: Images pass through the network to compute <green>**predictions**</green>.\n",
        "3) <blue>**Accuracy Calculation**</blue>: The model's predictions are compared to the true labels, and the <green>**accuracy**</green> is calculated.\n",
        "4) <blue>**Storing Results**</blue>: Predictions and true labels are saved to <green>**calculate metrics**</green> later.\n",
        "\n",
        "At the end of testing, the accuracy of the model on the test dataset is printed.\n",
        "\n",
        "Note: Replace the placeholders **\"None\"** with the appropriate code for data movement, prediction, and storing results."
      ]
    },
    {
      "cell_type": "code",
      "execution_count": 10,
      "metadata": {
        "id": "LgmdsezIPrdg",
        "colab": {
          "base_uri": "https://localhost:8080/"
        },
        "outputId": "7d99c0f3-57c8-4963-bc6c-76ff67df5973"
      },
      "outputs": [
        {
          "output_type": "stream",
          "name": "stdout",
          "text": [
            "Accuracy of the network on the test images: 96.72%\n"
          ]
        }
      ],
      "source": [
        "# Testing the model\n",
        "model.eval()\n",
        "allpreds = []\n",
        "alllabels = []\n",
        "\n",
        "with torch.no_grad():\n",
        "    correct = 0\n",
        "    total = 0\n",
        "    for images, labels in testloader:\n",
        "        images = images.to(device)\n",
        "        labels = labels.to(device)\n",
        "        outputs = model(images)\n",
        "        _, predicted = torch.max(outputs.data, 1)\n",
        "        total += labels.size(0)\n",
        "        correct += (predicted == labels).sum().item()\n",
        "        allpreds.extend(predicted.cpu().numpy())\n",
        "        alllabels.extend(labels.cpu().numpy())\n",
        "print(f\"Accuracy of the network on the test images: {100 * correct / total:.2f}%\")\n"
      ]
    },
    {
      "cell_type": "markdown",
      "metadata": {
        "id": "UR5xisHdPrdh"
      },
      "source": [
        "<style>\n",
        "blue {\n",
        "  color: skyblue;\n",
        "}\n",
        "\n",
        "red {\n",
        "  color: red;\n",
        "}\n",
        "\n",
        "green {\n",
        "  color: lightgreen;\n",
        "}\n",
        "</style>\n",
        "\n",
        "### **Step - 9**\n",
        "This code calculates key performance metrics to evaluate the model:\n",
        "1) <blue>**Accuracy**</blue>: Percentage of correctly classified samples.\n",
        "2) <blue>**Precision**</blue>: Proportion of true positive predictions out of all positive predictions.\n",
        "3) <blue>**Recall**</blue>: Proportion of true positives out of actual positive samples.\n",
        "4) <blue>**F1-Score**</blue>: <green>**Harmonic mean**</green> of precision and recall.\n",
        "5) The <blue>**confusion matrix**</blue> is also calculated, showing the number of correct and incorrect predictions for each class. It is visualized using a <green>**heatmap**</green>, where the <blue>**rows**</blue> represent <green>**true labels**</green>, and the <blue>**columns**</blue> represent <green>**predicted labels**</green>.\n",
        "\n",
        "Note: Replace the placeholders **\"None\"** with the appropriate code to calculate the metrics using sklearn and compute the confusion matrix."
      ]
    },
    {
      "cell_type": "code",
      "source": [
        "from sklearn.metrics import accuracy_score, precision_score, recall_score, f1_score, confusion_matrix\n",
        "import seaborn as sns\n",
        "\n",
        "allpreds = np.array(allpreds)\n",
        "alllabels = np.array(alllabels)\n",
        "\n",
        "accuracy = accuracy_score(alllabels, allpreds)\n",
        "precision = precision_score(alllabels, allpreds, average='weighted')\n",
        "recall = recall_score(alllabels, allpreds, average='weighted')\n",
        "f1 = f1_score(alllabels, allpreds, average='weighted')\n",
        "\n",
        "print(f\"Accuracy: {accuracy*100:.2f}\")\n",
        "print(f\"Precision: {precision:.4f}\")\n",
        "print(f\"Recall: {recall:.4f}\")\n",
        "print(f\"F1-Score: {f1:.4f}\")\n",
        "\n",
        "confmatrix = confusion_matrix(alllabels, allpreds)\n",
        "plt.figure(figsize=(10,8))\n",
        "sns.heatmap(confmatrix, annot=True, fmt='d', cmap='Blues', xticklabels=range(10), yticklabels=range(10))\n",
        "plt.title('Confusion Matrix')\n",
        "plt.ylabel('True Label')\n",
        "plt.xlabel('Predicted Label')\n",
        "plt.show()\n"
      ],
      "metadata": {
        "colab": {
          "base_uri": "https://localhost:8080/",
          "height": 787
        },
        "id": "B3iphoSn9X5j",
        "outputId": "a93502f2-2884-4c7c-f270-e8f210351baf"
      },
      "execution_count": 11,
      "outputs": [
        {
          "output_type": "stream",
          "name": "stdout",
          "text": [
            "Accuracy: 96.72\n",
            "Precision: 0.9675\n",
            "Recall: 0.9672\n",
            "F1-Score: 0.9672\n"
          ]
        },
        {
          "output_type": "display_data",
          "data": {
            "text/plain": [
              "<Figure size 1000x800 with 2 Axes>"
            ],
            "image/png": "[encoded data removed]"
          },
          "metadata": {}
        }
      ]
    },
    {
      "cell_type": "markdown",
      "metadata": {
        "id": "cc5cf76e"
      },
      "source": [
        "### **Step 10 (For Advanced Level, optional for Basic Level)**"
      ]
    },
    {
      "cell_type": "markdown",
      "metadata": {
        "id": "dee7b24e"
      },
      "source": [
        "Hyperparameter tuning is a crucial step in optimizing the performance of a neural network. It involves finding the best set of hyperparameters that control the learning process and the model's architecture, such as the learning rate, batch size, number of epochs, and the number of units in each layer.\n",
        "\n",
        "Techniques like grid search or random search can be employed to systematically explore different combinations of these hyperparameters and identify the values that yield the best results on a validation set. This process helps in improving the model's accuracy and generalization capabilities."
      ]
    },
    {
      "cell_type": "code",
      "source": [
        "import itertools\n",
        "\n",
        "# Define grid of hyperparameters\n",
        "paramgrid = {\n",
        "    'learningrate': [0.001, 0.01],\n",
        "    'batchsize': [64, 128],\n",
        "    'numepochs': [3, 5]\n",
        "}\n",
        "\n",
        "bestaccuracy = 0\n",
        "bestparams = {}\n",
        "\n",
        "# Iterate through combinations\n",
        "for lr, bs, epochs in itertools.product(paramgrid['learningrate'], paramgrid['batchsize'], paramgrid['numepochs']):\n",
        "    print(f\"Training with LR={lr}, Batch Size={bs}, Epochs={epochs}\")\n",
        "\n",
        "    # Re-initialize model, optimizer, loss\n",
        "    model = ANN().to(device)\n",
        "    criterion = nn.CrossEntropyLoss()\n",
        "    optimizer = torch.optim.Adam(model.parameters(), lr=lr)\n",
        "\n",
        "    # Update DataLoader batch size\n",
        "    trainloader = DataLoader(dataset=traindataset, batch_size=bs, shuffle=True)\n",
        "    testloader = DataLoader(dataset=testdataset, batch_size=bs, shuffle=False)\n",
        "\n",
        "    # Training loop\n",
        "    for epoch in range(epochs):\n",
        "        for images, labels in trainloader:\n",
        "            images, labels = images.to(device), labels.to(device)\n",
        "            outputs = model(images)\n",
        "            loss = criterion(outputs, labels)\n",
        "            optimizer.zero_grad()\n",
        "            loss.backward()\n",
        "            optimizer.step()\n",
        "\n",
        "    # Evaluation loop\n",
        "    model.eval()\n",
        "    correct, total = 0, 0\n",
        "    with torch.no_grad():\n",
        "        for images, labels in testloader:\n",
        "            images, labels = images.to(device), labels.to(device)\n",
        "            outputs = model(images)\n",
        "            _, predicted = torch.max(outputs.data, 1)\n",
        "            total += labels.size(0)\n",
        "            correct += (predicted == labels).sum().item()\n",
        "    accuracy = 100 * correct / total\n",
        "    print(f\"Accuracy for LR={lr}, Batch Size={bs}, Epochs={epochs}: {accuracy:.2f}%\")\n",
        "\n",
        "    # Store best parameters\n",
        "    if accuracy > bestaccuracy:\n",
        "        bestaccuracy = accuracy\n",
        "        bestparams = {'learningrate': lr, 'batchsize': bs, 'numepochs': epochs}\n",
        "\n",
        "print(\"Best Hyperparameters:\", bestparams)\n",
        "print(f\"Best Accuracy: {bestaccuracy:.2f}%\")\n"
      ],
      "metadata": {
        "id": "9JuFXxX4U9aJ",
        "outputId": "df8db659-803f-47d8-eebe-958e7538265e",
        "colab": {
          "base_uri": "https://localhost:8080/"
        }
      },
      "execution_count": 12,
      "outputs": [
        {
          "output_type": "stream",
          "name": "stdout",
          "text": [
            "Training with LR=0.001, Batch Size=64, Epochs=3\n",
            "Accuracy for LR=0.001, Batch Size=64, Epochs=3: 95.48%\n",
            "Training with LR=0.001, Batch Size=64, Epochs=5\n",
            "Accuracy for LR=0.001, Batch Size=64, Epochs=5: 96.42%\n",
            "Training with LR=0.001, Batch Size=128, Epochs=3\n",
            "Accuracy for LR=0.001, Batch Size=128, Epochs=3: 95.35%\n",
            "Training with LR=0.001, Batch Size=128, Epochs=5\n",
            "Accuracy for LR=0.001, Batch Size=128, Epochs=5: 96.38%\n",
            "Training with LR=0.01, Batch Size=64, Epochs=3\n",
            "Accuracy for LR=0.01, Batch Size=64, Epochs=3: 90.22%\n",
            "Training with LR=0.01, Batch Size=64, Epochs=5\n",
            "Accuracy for LR=0.01, Batch Size=64, Epochs=5: 92.68%\n",
            "Training with LR=0.01, Batch Size=128, Epochs=3\n",
            "Accuracy for LR=0.01, Batch Size=128, Epochs=3: 91.99%\n",
            "Training with LR=0.01, Batch Size=128, Epochs=5\n",
            "Accuracy for LR=0.01, Batch Size=128, Epochs=5: 95.09%\n",
            "Best Hyperparameters: {'learningrate': 0.001, 'batchsize': 64, 'numepochs': 5}\n",
            "Best Accuracy: 96.42%\n"
          ]
        }
      ]
    },
    {
      "cell_type": "markdown",
      "metadata": {
        "id": "b64e1512"
      },
      "source": [
        "### **Step 11 (For Advanced Level, optional for Basic Level)**\n",
        "\n",
        "Regularization is a set of techniques used to prevent overfitting in neural networks. Overfitting occurs when a model learns the training data too well, including the noise and outliers, which negatively impacts its performance on unseen data. Regularization methods add a penalty to the loss function or modify the network architecture to discourage the model from becoming too complex. Common regularization techniques include L1 and L2 regularization, and dropout."
      ]
    },
    {
      "cell_type": "code",
      "source": [
        "class ANNRegularized(nn.Module):\n",
        "    def __init__(self):\n",
        "        super(ANNRegularized, self).__init__()\n",
        "        self.fc1 = nn.Linear(28*28, 128)\n",
        "        self.relu = nn.ReLU()\n",
        "        self.dropout = nn.Dropout(0.5)  # Dropout probability (can tune)\n",
        "        self.fc2 = nn.Linear(128, 64)\n",
        "        self.fc3 = nn.Linear(64, 10)\n",
        "\n",
        "    def forward(self, x):\n",
        "        x = x.view(-1, 28*28)\n",
        "        x = self.fc1(x)\n",
        "        x = self.relu(x)\n",
        "        x = self.dropout(x)\n",
        "        x = self.fc2(x)\n",
        "        x = self.relu(x)\n",
        "        x = self.dropout(x)\n",
        "        x = self.fc3(x)\n",
        "        return x\n",
        "\n",
        "# Initialize regularized model\n",
        "modelregularized = ANNRegularized().to(device)\n",
        "criterionregularized = nn.CrossEntropyLoss()\n",
        "optimizerregularized = torch.optim.Adam(modelregularized.parameters(), lr=0.001)\n",
        "\n",
        "print(\"Regularized ANN model defined with dropout layers.\")\n"
      ],
      "metadata": {
        "id": "a-AH1sN34Gxq",
        "outputId": "b5436dfb-59e9-4d56-ff5e-f216e5ab841f",
        "colab": {
          "base_uri": "https://localhost:8080/"
        }
      },
      "execution_count": 13,
      "outputs": [
        {
          "output_type": "stream",
          "name": "stdout",
          "text": [
            "Regularized ANN model defined with dropout layers.\n"
          ]
        }
      ]
    }
  ],
  "metadata": {
    "kernelspec": {
      "display_name": "Python 3",
      "language": "python",
      "name": "python3"
    },
    "language_info": {
      "codemirror_mode": {
        "name": "ipython",
        "version": 3
      },
      "file_extension": ".py",
      "mimetype": "text/x-python",
      "name": "python",
      "nbconvert_exporter": "python",
      "pygments_lexer": "ipython3",
      "version": "3.11.9"
    },
    "colab": {
      "provenance": []
    }
  },
  "nbformat": 4,
  "nbformat_minor": 0
}